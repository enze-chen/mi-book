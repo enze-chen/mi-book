{
 "cells": [
  {
   "cell_type": "markdown",
   "id": "3bd614d9",
   "metadata": {},
   "source": [
    "# Python: The gory details\n",
    "\n",
    "*Authors: Enze Chen and Mark Asta (University of California, Berkeley)*\n",
    "\n",
    "```{note}\n",
    "This is an interactive exercise, so you will want to click the {fa}`rocket` and open the notebook in DataHub (or Colab for non-UCB students).\n",
    "```\n",
    "\n",
    "This notebook contains a series of exercises that are **intended for people who are new to Python**.\n",
    "It does assume some programming familiarity (maybe in another language) so not all computing concepts are discussed; the focus is largely on Python syntax.\n",
    "We start from the basics (_ab initio_, as some might say 😉) and build our way up to some fundamental concepts in scientific computing.\n",
    "Therefore, we suggest you go through the notebook from top to bottom without skipping around; \n",
    "however, if you find that you already know a lot of this information, feel free to skip to the exercises (<kbd>Ctrl</kbd>+<kbd>F</kbd>) or check out the other notebook \"Python: The greatest hits.\"\n",
    "Note: use of Google, Stack Overflow, and your peers/mentors is not only allowed, _but encouraged_.\n",
    "In other words, don't be afraid to look stuff up if you're confused or ask for help when you're stuck.\n",
    "\n",
    "There are many, _many_ Python tutorials out there, so **we've tried to make these exercises as relevant to MSE as possible**.\n",
    "We occasionally make references/comparisons to MATLAB, since that is the programming language you used in the previous module.\n",
    "\n",
    "<div class=\"alert alert-block alert-warning\">\n",
    "We definitely want to clarify that it is <b>100% OK</b> if you don't finish all of these exercises—in one day, or at all.\n",
    "We encourage you to do as many as you can for now to get your mindset situated in the world of Python, but we don't want you to be stressed.\n",
    "After all, this whole internship is learning-driven and there are no grades.\n",
    "We will try to proceed with subsequent tutorials according to the original schedule, but understand that those exercises will be scaffolded as well, and you can always come back to these exercises at a later date.\n",
    "</div>\n",
    "\n"
   ]
  },
  {
   "cell_type": "markdown",
   "id": "758db170",
   "metadata": {},
   "source": [
    "## Contents\n",
    "\n",
    "These exercises are grouped into the following sections:\n",
    "\n",
    "1. [General Python pt. 1: Common syntax and data types](#General-Python-part-1)\n",
    "1. [General Python pt. 2: Data structures](#General-Python-part-2)\n",
    "1. [Working with files](#Working-with-files)\n",
    "1. [The NumPy package](#The-NumPy-package)\n",
    "1. [A word on style](#A-word-on-style)"
   ]
  },
  {
   "cell_type": "markdown",
   "id": "a2b3bb69",
   "metadata": {},
   "source": [
    "## General Python part 1\n",
    "\n",
    "[Back to top](#Contents)\n",
    "\n",
    "## Expressions\n",
    "\n",
    "One of the simplest things to try in Python is to use it as a \"calculator\" to evaluate mathematical expressions.\n",
    "This is pretty much identical to the MATLAB command line.\n",
    "We can directly type the expression into a code cell and evaluate it to get a result, such as:"
   ]
  },
  {
   "cell_type": "code",
   "execution_count": null,
   "id": "e97801d1",
   "metadata": {},
   "outputs": [],
   "source": [
    "2021"
   ]
  },
  {
   "cell_type": "markdown",
   "id": "bdcf48ec",
   "metadata": {},
   "source": [
    "Jupyter notebook cells are quirky in that _only the last line_ of a code cell (if it does not end with a `;`) will have its output displayed, if applicable.\n",
    "If we have multiple lines that we want to display, it's best to use the built-in `print()` **function** like so:"
   ]
  },
  {
   "cell_type": "code",
   "execution_count": null,
   "id": "508fba27",
   "metadata": {},
   "outputs": [],
   "source": [
    "print(2021)\n",
    "print(2022)"
   ]
  },
  {
   "cell_type": "markdown",
   "id": "6f39a0f0",
   "metadata": {},
   "source": [
    "We suggest that, when in doubt, just use `print()` for all intended output.\n",
    "\n",
    "We can further perform arithmetic using the following **operators**:\n",
    "- `+` for addition\n",
    "- `-` for subtraction\n",
    "- `*` for multiplication\n",
    "- `/` for division\n",
    "- `**` for exponentiation (_not_ `^`)"
   ]
  },
  {
   "cell_type": "code",
   "execution_count": null,
   "id": "520c44fd",
   "metadata": {},
   "outputs": [],
   "source": [
    "3.1415 * 2"
   ]
  },
  {
   "cell_type": "markdown",
   "id": "a32f8ca3",
   "metadata": {},
   "source": [
    "### Exercise: compute 2 raised to the power of 3"
   ]
  },
  {
   "cell_type": "code",
   "execution_count": null,
   "id": "ad7c305b",
   "metadata": {},
   "outputs": [],
   "source": [
    "# -------------   WRITE YOUR CODE IN THE SPACE BELOW   ---------- #\n"
   ]
  },
  {
   "cell_type": "markdown",
   "id": "9a649f65",
   "metadata": {},
   "source": [
    "You'll notice that the first line in the code cell above started with `#`. \n",
    "These are comments in Python, and they do not get executed.\n",
    "To comment the current line of code that the cursor is on, press <kbd>Ctrl</kbd>+<kbd>/</kbd> on your keyboard.\n",
    "Knowing this, if you want to quickly comment/uncomment multiple lines, highlight them all and press <kbd>Ctrl</kbd>+<kbd>/</kbd>!"
   ]
  },
  {
   "cell_type": "markdown",
   "id": "a4fb2a1a",
   "metadata": {},
   "source": [
    "As you might expect, Python obeys order of operations (\"PEMDAS\"), but just like MATLAB, parentheses _do not_ imply multiplication; you still have to use `*`.\n",
    "\n",
    "```python\n",
    "2 (3 + 4)     # this will error!\n",
    "2 * (3 + 4)   # this gives 14\n",
    "```\n",
    "\n",
    "Two more operators that are commonly used in division are:\n",
    "- `//` for integer division (returns the quotient only, no decimals)\n",
    "- `%` for modulo (returns the remainder from division)\n",
    "\n",
    "It's best to just show how they work"
   ]
  },
  {
   "cell_type": "code",
   "execution_count": null,
   "id": "df81108e",
   "metadata": {},
   "outputs": [],
   "source": [
    "print(10 // 3)\n",
    "print(10 % 3)\n",
    "print(10 % 5)"
   ]
  },
  {
   "cell_type": "markdown",
   "id": "e381feb8",
   "metadata": {},
   "source": [
    "### Exercise: periodic boundary conditions\n",
    "\n",
    "When performing simulations of materials, we often use **periodic boundary conditions** (PBCs) to try and minimize boundary / finite size effects that would not be present in a real, bulk material (which is too large to fit into computer memory).\n",
    "For example, when we have a particle in a molecular dynamics simulation approach one boundary of the simulation box (the green dashed wall on the right side of cell `4` in the following figure), it will eventually \"wrap around\" to the other side (appear in cell `0`) with the same velocity.\n",
    "\n",
    "![pbc](../../assets/fig/week_1/01/pbc.png)\n",
    "\n",
    "Assume that the figure above is the inital configuration and that the two vertical sides have PBCs. \n",
    "The particle travels for 1868 time steps, where for each time step it travels _3 cells_.\n",
    "Using the special division operators, please compute:\n",
    "1. The number of times the particle goes across the full simulation cell (i.e., has to wrap around).\n",
    "1. The number of the cell that the particle finally stops in.\n",
    "\n",
    "You should get answers of `1120` and `4`, respectively."
   ]
  },
  {
   "cell_type": "code",
   "execution_count": null,
   "id": "29f57945",
   "metadata": {},
   "outputs": [],
   "source": [
    "# -------------   WRITE YOUR CODE IN THE SPACE BELOW   ---------- #\n"
   ]
  },
  {
   "cell_type": "markdown",
   "id": "6e294da5",
   "metadata": {},
   "source": [
    "## Variables\n",
    "\n",
    "Notice that after we execute the above expressions, the value is displayed, but \"lost\" in the sense that we cannot use it for future computations (without typing the whole expression again).\n",
    "This calls for **variables**, which are used to store values for future use and to help improve code readability.\n",
    "All Python variables have three components:\n",
    "- A `name` that you assign.\n",
    "- A `value` that is the data it holds.\n",
    "- A `type` for the data type.\n",
    "\n",
    "Typically variables are created using the syntax `name = value`, where `=` is the **assignment operator** that assigns the value on the _right-hand side_ to the variable name on the _left-hand side_.\n",
    "\n",
    "For the name, it should be _descriptive_ (explains what it represents) but short. \n",
    "For good style, Python variable names are in _snake_case_, which means all lowercase and separated_by_underscores. 🐍\n",
    "\n",
    "Below, we create the `year` variable and assign it a value of `2021`. \n",
    "Now when we want to print its value, we can reference the variable instead of the numerical expression."
   ]
  },
  {
   "cell_type": "code",
   "execution_count": null,
   "id": "1d99a017",
   "metadata": {},
   "outputs": [],
   "source": [
    "year = 2021\n",
    "print(year)"
   ]
  },
  {
   "cell_type": "markdown",
   "id": "e686b0a7",
   "metadata": {},
   "source": [
    "### Types\n",
    "\n",
    "Now let's discuss what we mean by \"data type.\" \n",
    "This term describes what sort of data the variable contains. \n",
    "You've already seen two data types in the previous examples, namely `int` (for integer) and `float` (for decimals).\n",
    "\n",
    "Python also has a **built-in function** `type()` that will return the type of a variable.\n",
    "For example:"
   ]
  },
  {
   "cell_type": "code",
   "execution_count": null,
   "id": "c799dd26",
   "metadata": {},
   "outputs": [],
   "source": [
    "print(type(year))   # notice how we can reference variables and data from previously-run cells!"
   ]
  },
  {
   "cell_type": "markdown",
   "id": "ff09e020",
   "metadata": {},
   "source": [
    "Two more common data types that you will see are `string` (for text) and `bool` (for logical `True`/`False`).\n",
    "\n",
    "### Strings 🧵\n",
    "\n",
    "Strings in Python are created using single quotes (`'`) or double quotes (`\"`), and you can take your pick, _as long as you're consistent_.\n",
    "Generally it doesn't matter, except when the text you're enclosing has a single (or double) quotation mark, in which case you will want to surround your whole string with the other one.\n",
    "\n",
    "```python\n",
    "'band gaps'     # single quotes on both sides\n",
    "\"1337\"          # double quotes, just as good. Note how this is still a string!\n",
    "\"That's cool!\"  # here we have to use double quotes for the string since \"That's\" has an apostrophe\n",
    "```\n",
    "\n",
    "Just to re-emphasize: Even if the characters in a string are numbers, the whole expression (known as a _literal_) inside the quotes is _still a string_.\n",
    "If we want to change the second line from `str` to `int`, we would have to **cast** the value using the built-in `int(...)` function."
   ]
  },
  {
   "cell_type": "code",
   "execution_count": null,
   "id": "f5636983",
   "metadata": {},
   "outputs": [],
   "source": [
    "a = 1337\n",
    "b = '1337'\n",
    "print(type(a))\n",
    "print(type(b))\n",
    "print(a == b)        # this checks for equality; see next section!\n",
    "print(a == int(b))   # we cast b to int type\n",
    "print(str(a) == b)   # we cast a to str type"
   ]
  },
  {
   "cell_type": "markdown",
   "id": "ebc21f1a",
   "metadata": {},
   "source": [
    "Did you know that you can join two strings together with the `+` operator?\n",
    "It's pretty cool. \n",
    "Run the next cell to check it out."
   ]
  },
  {
   "cell_type": "code",
   "execution_count": null,
   "id": "18cb98e3",
   "metadata": {},
   "outputs": [],
   "source": [
    "first = 'UC Berkeley '\n",
    "second = 'is the best!'\n",
    "print(first + second)"
   ]
  },
  {
   "cell_type": "markdown",
   "id": "d6e1a9ae",
   "metadata": {},
   "source": [
    "There's also a few more special character literals in Python, where \"two characters\" are joined together to represent a single construct, such as tabs and newlines.\n",
    "These literals contain a backslash `\\`.\n",
    "You might not ever explictly type these characters yourself, but they appear **all the time** in data files, so you'll definitely see them a lot in your work."
   ]
  },
  {
   "cell_type": "code",
   "execution_count": null,
   "id": "aef5e953",
   "metadata": {},
   "outputs": [],
   "source": [
    "print('This sentence has a \\nline break.')          # '\\n' is the newline character\n",
    "print('This sentence has a few ran\\t\\tdom tabs.')   # '\\t' is the tab character"
   ]
  },
  {
   "cell_type": "markdown",
   "id": "b0dc5f9d",
   "metadata": {},
   "source": [
    "#### f-strings\n",
    "\n",
    "Now we want to show you what is possibly the coolest invention since sliced bread. 🍞\n",
    "You see that `str`s are cool, `int`s are cool, variables are cool—so what if we could combine them all?\n",
    "Specifically, we will often want to combine numbers and variables into strings inside a `print()` statement to verify our computations.\n",
    "\n",
    "As an example, imagine you had a routine that calculated the efficiency of a solar cell.\n",
    "This routine returns a number, which will say is a `float` stored inside the `efficiency` variable.\n",
    "At the end of this routine, you want to print a final statement for the user: \n",
    "```python\n",
    "\"The efficiency is XX%.\"\n",
    "```\n",
    "However, the value of `XX%` (the value of `efficiency`) will change depending on the input parameters, and you want seamlessly merge this numeric variable into the string so that, with the same `print()` statement in Python, you can print the correct efficiency each time, even as the `efficiency` variable may change in value.\n",
    "\n",
    "Enter **f-strings**, short for [formatted string literals](https://realpython.com/python-f-strings/), that are rather simple and yet incredibly powerful.\n",
    "Whereas normal strings are created with just quotation marks, f-strings have two special additions:\n",
    "\n",
    "1. The letter `f` immediately precedes the first quotation mark.\n",
    "1. Curly braces `{}` surround the variable names you want to include.\n",
    "\n",
    "We'll demonstrate a few use cases below.\n",
    "Notice how simple it is to combine different data types into a string using this syntax.\n",
    "The resulting f-string _even reads like English_. \n",
    "How Pythonic!"
   ]
  },
  {
   "cell_type": "code",
   "execution_count": null,
   "id": "6e8b84ba",
   "metadata": {},
   "outputs": [],
   "source": [
    "name = 'Enze'\n",
    "year = 2\n",
    "print(f'{name} is in year {year} of his PhD.')    # we mixed in str and int\n",
    "\n",
    "efficiency = 33.7\n",
    "message = f'The efficiency is {efficiency}%.'     # floats too. And it works everywhere strings are used!\n",
    "print(message)\n",
    "\n",
    "efficiency = 24\n",
    "message = f'The efficiency is {efficiency}%.'     # we had to reassign the value, but the literal format is the same\n",
    "print(message)\n",
    "\n",
    "print(f'The sum of the first 50 positive integers is {50 * 51 // 2}.')    # we can even write expressions!"
   ]
  },
  {
   "cell_type": "markdown",
   "id": "e3bdf183",
   "metadata": {},
   "source": [
    "### Boolean and operators\n",
    "\n",
    "Boolean variables (named after [George Boole](https://en.wikipedia.org/wiki/George_Boole), who unfortunately died because [he was too cool](https://en.wikipedia.org/wiki/George_Boole#Death)) can be directly assigned a value of `True` or `False`, which must be capitalized and written _without_ quotation marks (or else they become strings). \n",
    "However, a Boolean variable's value will more often result from a **logical operator** such as:\n",
    "- `>`, `>=`, `<`, `<=` for comparing order.\n",
    "- `==` and `!=` for equality and inequality.\n",
    "- `and`, `or`, `not`, `is`, `in` **keywords**.\n",
    "\n",
    "Keywords are probably one of the stranger parts of Python. \n",
    "In other languages, you're used to writing symbols like `&&` and `||` to express \"and\" and \"or,\" respectively, but because Python strives to be readable, it just directly uses `and` and `or` to mean the same thing.\n",
    "\n",
    "### Exercise: materials selection\n",
    "\n",
    "Create a Boolean variable named `use` that is `True` when the material is abundant and its refractive index is between `1.5` and `2.0`, inclusive.\n",
    "Print its value as well.\n",
    "Feel free to change the constants to see if the value of `use` changes."
   ]
  },
  {
   "cell_type": "code",
   "execution_count": null,
   "id": "5ee39659",
   "metadata": {
    "scrolled": true
   },
   "outputs": [],
   "source": [
    "abundant = True    # bool type; no quotes!\n",
    "n = 1.7            # float type\n",
    "# -------------   WRITE YOUR CODE IN THE SPACE BELOW   ---------- #\n"
   ]
  },
  {
   "cell_type": "markdown",
   "id": "65e6dded",
   "metadata": {},
   "source": [
    "### Truthiness⁉\n",
    "\n",
    "It's perhaps a tautology to say that `True` means True and `False` means \"False,\" so might there also be other ways of expressing the notions of \"True\" and \"False\" using other data types? \n",
    "\n",
    "It turns out there are in Python, and they are as follows:\n",
    "\n",
    "| Data type | Truthy value | Falsy value          |\n",
    "| :-------- | :----------- | :------------------- |\n",
    "| `bool`    | `True`       | `False`              |\n",
    "| `int`     | `0`          | any other `int`      |\n",
    "| `float`   | `0.0`        | any other `float`    |\n",
    "| `str`     | `''`         | any non-empty `str`  |\n",
    "| `list`    | `[]`         | any non-empty `list` |\n",
    "| `dict`    | `{}`         | any non-empty `dict` |\n",
    "\n",
    "The best way to illustrate this idea, which is termed **truthiness**, is by example:"
   ]
  },
  {
   "cell_type": "code",
   "execution_count": null,
   "id": "f3b75cb1",
   "metadata": {},
   "outputs": [],
   "source": [
    "if 0:           # zero int; won't print\n",
    "    print(1)\n",
    "if 3:           # non-zero int; will print\n",
    "    print(2)\n",
    "if 0.0:         # zero float; won't print\n",
    "    print(3)\n",
    "if 3.14:        # non-zero float; will print\n",
    "    print(4)\n",
    "if '':          # empty string; won't print\n",
    "    print(5)\n",
    "if ' ':         # space is not an empty string! Will print\n",
    "    print(6)\n",
    "if []:          # we'll discuss list and dict later!\n",
    "    print(7)\n",
    "if {}:\n",
    "    print(8)\n",
    "if None:        # whoa!\n",
    "    print(9)"
   ]
  },
  {
   "cell_type": "markdown",
   "id": "b9f117fa",
   "metadata": {},
   "source": [
    "You may have noticed that in line 17 we have a special `None` keyword.\n",
    "In Python, `None` is a data type that doesn't contain any value and represents the notion of null variable or null object.\n",
    "Appropriately, it is Falsy.\n",
    "You can use `None` to explicitly initialize variables to null values and it is also the return type of a function that doesn't return anything (more on functions later)."
   ]
  },
  {
   "cell_type": "markdown",
   "id": "c84266a5",
   "metadata": {},
   "source": [
    "## Control flow\n",
    "\n",
    "Now that we've covered logic, we can move onto some more exciting content: control flow!\n",
    "These are syntactic structures that modify the execution of your Python code such that it no longer runs linearly from top to bottom. \n",
    "We'll discuss three control flow structures here that you might find helpful.\n",
    "The first two you should already know from other languages and will rely on them heavily; the third might be new and is helpful to know what it means when you see it.\n",
    "\n",
    "### `if`/`elif`/`else` 🔀\n",
    "\n",
    "These three keywords are used for **conditionals**, which is when your code has some branching logic that executes differently depending the conditions that are satisfied.\n",
    "Conditionals in Python have the following syntax:\n",
    "\n",
    "```python\n",
    "if [Boolean expression]:             # note the colon!\n",
    "    # do something if True           # note the indentation by four spaces!\n",
    "elif [another Boolean expression]:   # optional; can also have multiple\n",
    "    # do something else if True      # same amount of indentation\n",
    "else:                                # all other cases\n",
    "    # do something\n",
    "```\n",
    "\n",
    "A few things to point out:\n",
    "- Conditionals end with a colon `:`. This is just part of the syntax and is different from MATLAB, but also hopefully more clear.\n",
    "- Another strange thing about Python is its reliance on **whitespace** and **indentation**. \n",
    "Note that the stuff \"inside\" each conditional statement is indented (by four spaces) from the beginning. \n",
    "    - It **must be indented**, although you can choose by how much.\n",
    "    - This is how Python keeps track of everything underneath the `if` statement and whatever is not indented begins the next section (in this case, `elif`).\n",
    "    - There are **no curly braces** in Python, which is what you might be used to if you're coming from Java/C++.\n",
    "- _Protip_: If you want to indent several lines at once, highlight them all and press <kbd>Tab</kbd>.\n",
    "If you want to reduce the indentation (shift them all to the left), highlight them and press <kbd>Shift</kbd>+<kbd>Tab</kbd>."
   ]
  },
  {
   "cell_type": "markdown",
   "id": "4d515003",
   "metadata": {},
   "source": [
    "### Exercise: Band gap classification\n",
    "\n",
    "Arguably one of the most important properties in all of materials science is the [band gap](https://en.wikipedia.org/wiki/Band_gap), which is a range of energies where no electronic states can exist.\n",
    "The band gap is formed in solids when many atoms are brought together into a close, periodic arrangement such that their orbitals hybridize into continuous energy bands where electrons are allowed to exist (see image in previous link).\n",
    "The lower band is called the **valence band** (electrons are bound to the atoms) and the upper band is called the **conduction band** (where electrons can flow to conduct current). \n",
    "The energy gap that separates these two bands (specifically, separating the valence band maximum (VBM) from the conduction band minimum (CBM)) is called the **band gap**, symbolized $E_g$.\n",
    "For more information, see Chapters 4.2-4.4 of the Kasap textbook.\n",
    "\n",
    "![band gap](../../assets/fig/week_1/01/band_gap.png)\n",
    "\n",
    "Electrons have to overcome this gap in order to become a conducting electron, and so the band gap determines the conductivity of a solid.\n",
    "Some _approximate_ ranges for the band gap energy are:\n",
    "\n",
    "- If $0 \\le E_g \\le 0.1\\ \\text{electronvolts (eV)}$, then the material is a **metal** (conductor), since electrons can very easily reach the conduction band. \n",
    "Example: copper (0.0 eV).\n",
    "- If $0.1 < E_g \\le\\ 4\\ \\text{eV}$, then the material is a **semiconductor**. \n",
    "Example: silicon (1.1. eV).\n",
    "- If $E_g > 4\\ \\text{eV}$, then the material is an **insulator**, since electrons will have a very hard time jumping from the valence band into the conduction band. \n",
    "In some (but not all) contexts, these materials are also referred to as **dielectrics**.\n",
    "Example: diamond (5 eV).\n",
    "\n",
    "Write a set of conditional statements that print out what type of material you have based on the value of `band_gap`.\n",
    "Change the band gap value to test your logic."
   ]
  },
  {
   "cell_type": "code",
   "execution_count": null,
   "id": "e4cc6ca7",
   "metadata": {},
   "outputs": [],
   "source": [
    "band_gap = 1.1    # in units of eV\n",
    "# -------------   WRITE YOUR CODE IN THE SPACE BELOW   ---------- #\n"
   ]
  },
  {
   "cell_type": "markdown",
   "id": "c6b6776f",
   "metadata": {
    "heading_collapsed": true
   },
   "source": [
    "### `for` and `while` loops 🔁\n",
    "\n",
    "The second topic that we will cover is the idea of **loops**, which is when you want to repeat a chunk of code to automate similar tasks.\n",
    "As you probably know from your previous experience, there are two types of loops:\n",
    "\n",
    "#### `for` loops \n",
    "\n",
    "`for` loops are used when you **know** how many times you want to repeat a task.\n",
    "The syntax is \n",
    "```python\n",
    "for i in range(N):\n",
    "    # do something\n",
    "```\n",
    "\n",
    "`range(N)` is another built-in function that creates a collection of integers (`N` must be of type `int`) from `0` to `N-1`, inclusive.\n",
    "Therefore, the body of the loop will execute $N$ times, and each time, the variable `i` will take on a different value from `0` to `N-1`.\n",
    "You can also start at a non-zero integer `M` if you specify it, such as `range(M, N)`.\n",
    "\n",
    "Note also that the body of the `for` loop is **indented**.\n",
    "Everything that is indented will be part of the loop, and as soon as the indentation is removed, the remaining code is outside of the loop."
   ]
  },
  {
   "cell_type": "markdown",
   "id": "b936da96",
   "metadata": {
    "hidden": true
   },
   "source": [
    "#### `while` loops\n",
    "\n",
    "`while` loops are used when you **don't know** how many times you want to repeat a task, but you _do know_ the stopping condition.\n",
    "The syntax is:\n",
    "```python\n",
    "while [Boolean expression]:\n",
    "    # do something\n",
    "```\n",
    "\n",
    "While in general either loop can be used to solve your problem, there is typically one that is a little more \"natural\" for the particular problem, and recognizing this is mostly a matter of experience, and somewhat a matter of style.\n",
    "\n",
    "A very common mistake when using while `loops` is remembering to set a counter, but then forgetting to increment it, which leads to an infinite loop:\n",
    "```python\n",
    "i = 1\n",
    "while i < 10:\n",
    "    print(i)      # infinite loop!\n",
    "    # i = i + 1   # this increment needs to be included (not commented out)\n",
    "```"
   ]
  },
  {
   "cell_type": "markdown",
   "id": "50e80f72",
   "metadata": {},
   "source": [
    "### Exercise: identify even numbers\n",
    "\n",
    "Write a loop that prints out which _positive_ numbers less than `20` are even.\n",
    "Identifying **parity** (even/odd) is a common task in computing and data science.\n",
    "\n",
    "_Hints_: \n",
    "1. If you want a range of numbers to start from `1` instead of `0`, make sure to add `range(1, N)`.\n",
    "1. You may find `if`, `%`, and `==` helpful. \n",
    "1. You can print a combination of different values if you separate them with commas, such as:\n",
    "```python\n",
    "print(num, 'is even.')\n",
    "```\n",
    "Better yet, use [f-strings](#f-strings). 😎"
   ]
  },
  {
   "cell_type": "code",
   "execution_count": null,
   "id": "2a5c6a91",
   "metadata": {},
   "outputs": [],
   "source": [
    "# -------------   WRITE YOUR CODE IN THE SPACE BELOW   ---------- #\n"
   ]
  },
  {
   "cell_type": "markdown",
   "id": "6f7bf11d",
   "metadata": {},
   "source": [
    "#### Keywords associated with loops\n",
    "\n",
    "There are three keywords associated with loops (and a few other things, but mostly loops) that we want to draw your attention to:\n",
    "- `pass`: This keyword means \"do nothing _and keep going_ through the rest of that iteration of the loop.\"\n",
    "- `continue`: This keyword means \"do nothing _and skip to the next iteration_ of the loop.\"\n",
    "- `break`: This keyword means \"stop the loop instantly and execute any code following the loop.\"\n",
    "\n",
    "Run the following example to see the keywords in action:"
   ]
  },
  {
   "cell_type": "code",
   "execution_count": null,
   "id": "8ae7bab7",
   "metadata": {},
   "outputs": [],
   "source": [
    "for i in range(20):       # defined to print up to 20\n",
    "    if i < 4:\n",
    "        print(100 + i)\n",
    "        pass\n",
    "    elif i < 7:           # this will skip 4, 5, 6\n",
    "        continue\n",
    "    print(i)\n",
    "    if i == 10:           # loop is killed at 10\n",
    "        break\n",
    "print('All done.')"
   ]
  },
  {
   "cell_type": "markdown",
   "id": "6e2e37de",
   "metadata": {},
   "source": [
    "### `try`/`except`\n",
    "\n",
    "This is a common paradigm that also exists in other languages (in C++ and MATLAB, it's called `try`/`catch`).\n",
    "Essentially, what this says is \"attempt to run the code in the `try` block, but I know it might fail; so when it does, don't crash my program and instead jump to the `except` block and start running the code in there.\"\n",
    "You probably will not have to write any of these structures in this module, but you might see it come up in documentation, so that's why we're including it here as a heads up.\n",
    "Run the following code and see if it matches our explanation."
   ]
  },
  {
   "cell_type": "code",
   "execution_count": null,
   "id": "bd42266a",
   "metadata": {},
   "outputs": [],
   "source": [
    "try:\n",
    "    print('So far, so good!')\n",
    "    np.random.rand()\n",
    "    print('This never runs. sad.')\n",
    "except:\n",
    "    print('NumPy package not yet imported. rip.')"
   ]
  },
  {
   "cell_type": "markdown",
   "id": "2a434299",
   "metadata": {},
   "source": [
    "## Functions\n",
    "\n",
    "Just as variables are excellent at storing data for future, repeated use, **functions** are great at storing _commands_ for future, repeated use.\n",
    "\n",
    "We've already seen a few examples of built-in functions above: `print()`, `type()`, `range(N)`.\n",
    "From these examples, you should notice that functions are called with their name followed by parentheses. \n",
    "Inside the parentheses, there _may or may not be_ **input arguments**.\n",
    "As we go along, we'll see more examples of functions that we can call to help us accomplish certain tasks in Python.\n",
    "\n",
    "\n",
    "### Writing your own function\n",
    "\n",
    "Sometimes, the function you need hasn't yet been written by someone else, so you need to write your own. \n",
    "To define a new function in Python, we use the following syntax:\n",
    "```python\n",
    "def function_name(arg1, arg2, ...):\n",
    "    # function body; do something here, such as\n",
    "    return 'Hello, World!'\n",
    "```\n",
    "\n",
    "A couple things to point out:\n",
    "- All function headers start with the keyword `def` and a space.\n",
    "- Then comes the name of the function, which like variable names, should be descriptive, short, and in snake_case. 🐍\n",
    "- Functions can have _zero or more_ input arguments in parentheses that can then be used in the body of the function.\n",
    "- Function headers end with a colon `:`.\n",
    "- The function may or may not `return` a value.\n",
    "If you want to use the values computed by the caller of the function, you have to include a `return` statement and save the returned value(s) inside variables."
   ]
  },
  {
   "cell_type": "markdown",
   "id": "2ca07428",
   "metadata": {},
   "source": [
    "### Exercise: band gaps revisited\n",
    "\n",
    "Copy your code for the band gap material classifier in the cell below, and put it inside the body of a function `material_type(bg)`, where `bg` is the single input argument for the band gap value in eV.\n",
    "This function then prints out whether that material is a metal, semiconductor, or insulator."
   ]
  },
  {
   "cell_type": "code",
   "execution_count": null,
   "id": "50d281c4",
   "metadata": {},
   "outputs": [],
   "source": [
    "# -------------   WRITE YOUR CODE IN THE SPACE BELOW   ---------- #\n",
    "\n",
    "# --------------------------------------------------------------- #\n",
    "# test the function\n",
    "material_type(0)            # we don't need to specify the argument name\n",
    "material_type(bg=9)         # but we can if we want to; here's how that's done\n",
    "res = material_type(1.1)    # material_type() should NOT return anything; only prints\n",
    "print(res)                  # and so this line will output \"None\""
   ]
  },
  {
   "cell_type": "markdown",
   "id": "3577a47a",
   "metadata": {},
   "source": [
    "### Multiple return arguments\n",
    "\n",
    "Just as a function can have multiple input arguments (this we're pretty familiar with), functions in Python can also have multiple _return_ values, which is similar to MATLAB functions.\n",
    "To write a function with multiple return values, just separate each one with a **comma** in the function definition.\n",
    "\n",
    "Then, in the caller, we have to make sure to specify a variable for each return value, also separated with commas."
   ]
  },
  {
   "cell_type": "code",
   "execution_count": null,
   "id": "d2596b8e",
   "metadata": {},
   "outputs": [],
   "source": [
    "def get_int_string_bool(fl):\n",
    "    return int(fl), str(fl), bool(fl)\n",
    "\n",
    "v_int, v_str, v_bool = get_int_string_bool(42.0)\n",
    "print(f'The {type(v_int)} value is {v_int}.')\n",
    "print(f'The {type(v_str)} value is {v_str}.')\n",
    "print(f'The {type(v_bool)} value is {v_bool}.')"
   ]
  },
  {
   "cell_type": "markdown",
   "id": "8eddd529",
   "metadata": {},
   "source": [
    "<div class=\"alert alert-block alert-warning\">\n",
    "    <center><b>~ BREAK ~</b></center>\n",
    "    At this point, we highly suggest you give yourself a decent break before continuing further. 🥰\n",
    "    Get a drink of water, go grab a bite, or at least stand up and stretch to give your eyes a break.\n",
    "    You all are awesome!! 🙌\n",
    "</div>"
   ]
  },
  {
   "cell_type": "markdown",
   "id": "f0b6868c",
   "metadata": {},
   "source": [
    "## General Python part 2\n",
    "\n",
    "[Back to top](#Contents)\n",
    "\n",
    "Whew, believe it or not, the fun is just beginning! 😁\n",
    "So far we've covered variables, data types, control flow, and functions.\n",
    "A natural next question to ask is what should we do if we have several pieces of data? \n",
    "Do we create a variable for each one? \n",
    "Or is there somewhere we can _store_ the collection of data for later access?\n",
    "This means it's time to discuss **data structures**, and here we will cover **lists** (and a little bit more on strings) and **dictionaries**."
   ]
  },
  {
   "cell_type": "markdown",
   "id": "a71df873",
   "metadata": {},
   "source": [
    "## Lists\n",
    "\n",
    "A `list` is an **ordered** data structure that stores a sequence of values.\n",
    "The elements are contained within square brackets `[...]` and separated by commas `,`.\n",
    "The values in a `list` can have _different types_, and they can even be lists themselves.\n",
    "We'll start by creating a few lists by hand."
   ]
  },
  {
   "cell_type": "code",
   "execution_count": null,
   "id": "f694adcf",
   "metadata": {},
   "outputs": [],
   "source": [
    "empty = []                                                # an empty list (no elements)\n",
    "num = [1, 2, 4, 123]                                      # a list of ints\n",
    "materials = ['metals', 'semiconductors', 'insulators']    # a list of strings\n",
    "mixed = [False, 1, 'two', 3.0, [4, 5]]                    # a list of various data types\n",
    "print(mixed)                                              # lists are printed as: [elem1, elem2, ...]"
   ]
  },
  {
   "cell_type": "markdown",
   "id": "1ff33cfa",
   "metadata": {},
   "source": [
    "### Exercise: name all the data types/classes of the elements in the list named `mixed` above\n",
    "\n",
    "**Answer**: \n",
    "Write your answer here by editing the Markdown cell.\n"
   ]
  },
  {
   "cell_type": "markdown",
   "id": "84011451",
   "metadata": {},
   "source": [
    "There is yet another handy built-in function, `len()`, that returns the length of a list (number of elements in the list).\n",
    "We often use this number to figure out the size of our dataset, set the `range()` function in a `for` loop, and perform arithmetic.\n",
    "\n",
    "\n",
    "### Exercise: print the length of the list `mixed`\n",
    "\n",
    "Before you write the one line of code, we ask you to think about it: **Will the length be 5 or 6**? Why?\n",
    "\n",
    "Also, you can directly use `mixed` below, and it will have the same value as the `mixed` variable from above (you don't have to initialize it again).\n",
    "Variables in code cells, after being executed, will persist and can be used in other code cells.\n",
    "Nice."
   ]
  },
  {
   "cell_type": "code",
   "execution_count": null,
   "id": "8b8cbb2d",
   "metadata": {},
   "outputs": [],
   "source": [
    "# -------------   WRITE YOUR CODE IN THE SPACE BELOW   ---------- #\n"
   ]
  },
  {
   "cell_type": "markdown",
   "id": "9c9c41e6",
   "metadata": {},
   "source": [
    "### Accessing list elements\n",
    "\n",
    "We can access the elements of a list by specifying the appropriate **index**, which must be an `int`.\n",
    "In Python, `list`s (and other data structures) are **indexed starting at 0**. \n",
    "This is like most other programming languages, but it _notably differs from MATLAB_, so beware!\n",
    "\n",
    "The syntax is as follows:\n",
    "```python\n",
    "my_list[ind]\n",
    "```\n",
    "\n",
    "We can also index a list starting from the end if we use a negative index. \n",
    "But we cannot specify an index that is outside the \"bounds\" of the list.\n",
    "Examples include:"
   ]
  },
  {
   "cell_type": "code",
   "execution_count": null,
   "id": "007c202e",
   "metadata": {},
   "outputs": [],
   "source": [
    "students = ['Alexa', 'Eddie', 'Kevin', 'Luis', 'Mack', 'Megan']\n",
    "print(f'The first student is {students[0]}.')\n",
    "print(f'The third student is {students[2]}.')\n",
    "print(f'The last student is {students[-1]}.')\n",
    "print(f'The 7th student is {students[6]}.')    # error!"
   ]
  },
  {
   "cell_type": "markdown",
   "id": "feb1d3d3",
   "metadata": {},
   "source": [
    "We can also take **slices** of a list, which is a subset of elements, using the following syntax:\n",
    "```python\n",
    "my_list[start:stop:(every)]\n",
    "```\n",
    "\n",
    "The three input arguments (which are of `int` type) are:\n",
    "- `start`: The index to start the slice at. Inclusive.\n",
    "- `stop`: The index to stop the slice at. _Exclusive_.\n",
    "- `every`: Optional number to specify the frequency of skipping elements. Default is `1` (don't skip any).\n",
    "\n",
    "There are also some sneaky tricks if some of these are omitted, as shown below:"
   ]
  },
  {
   "cell_type": "code",
   "execution_count": null,
   "id": "3b15a976",
   "metadata": {},
   "outputs": [],
   "source": [
    "print(students[2:5])   # 3rd, 4th, 5th student; does not include index 5!\n",
    "print(students[3:])    # all students from the 4th to the end\n",
    "print(students[:-1])   # everyone except the last student\n",
    "print(students[0::2])  # skip every other student\n",
    "print(students[::-1])  # reverse the list!"
   ]
  },
  {
   "cell_type": "markdown",
   "id": "986bc3ce",
   "metadata": {},
   "source": [
    "We can also access the elements of a `list` using a variant called a **for-each** loop.\n",
    "This actually has the exact same syntax as the regular `for` loop, but instead of the index variable (e.g., `i`) taking on numerical values in a range (e.g., `0`, `1`, `2`, ...), the index variable tracks each value in the `list`.\n",
    "The syntax is as follows:\n",
    "```python\n",
    "for val in my_list:\n",
    "    # do something with each val\n",
    "```\n",
    "\n",
    "### Exercise: write a for-each loop to print out each student's name"
   ]
  },
  {
   "cell_type": "code",
   "execution_count": null,
   "id": "716d1bd1",
   "metadata": {},
   "outputs": [],
   "source": [
    "# -------------   WRITE YOUR CODE IN THE SPACE BELOW   ---------- #\n"
   ]
  },
  {
   "cell_type": "markdown",
   "id": "1cd1825c",
   "metadata": {},
   "source": [
    "### Checking list membership\n",
    "\n",
    "Often times, we'll have a list of elements that's so long we can't really look at every single element manually.\n",
    "But, we still want to know if our list contains a particular element.\n",
    "That's where the `in` keyword _comes in_. \n",
    "We can use this keyword the following way:\n",
    "```python\n",
    "elem in my_list   # returns True if so, False otherwise\n",
    "```"
   ]
  },
  {
   "cell_type": "code",
   "execution_count": null,
   "id": "8d856901",
   "metadata": {},
   "outputs": [],
   "source": [
    "print('Alexa' in students)\n",
    "print('Enze' in students)"
   ]
  },
  {
   "cell_type": "markdown",
   "id": "a5edd694",
   "metadata": {},
   "source": [
    "Lists are **mutable**, which is a fancy way of saying that we can change their contents after they've been initially created.\n",
    "For example, Luis also goes by \"Louie,\" so we can change the string at index `3` to be \"Louie.\""
   ]
  },
  {
   "cell_type": "code",
   "execution_count": null,
   "id": "655b3b5a",
   "metadata": {},
   "outputs": [],
   "source": [
    "students[3] = 'Louie'   # same syntax to set value at index as get value at index\n",
    "print(students)"
   ]
  },
  {
   "cell_type": "markdown",
   "id": "6a7d84b5",
   "metadata": {},
   "source": [
    "### List functions and methods\n",
    "\n",
    "And the fun just doesn't stop!\n",
    "Lists honestly are probably the most powerful data structures in Python.\n",
    "They have some [pretty cool functions](https://www.softwaretestinghelp.com/python-list-functions/) and methods associated with them, and we only have time to discuss a few here.\n",
    "\n",
    "We've already seen one function which is `len()` that returns the number of elements in the list.\n",
    "Some other handy functions include `sum()`, `max()`, and `min()` if your list has numeric elements.\n",
    "`sorted()` is another function that takes your list and _returns_ a sorted list with the same elements in increasing order.\n",
    "These are all functions that take the list as an _input argument_."
   ]
  },
  {
   "cell_type": "code",
   "execution_count": null,
   "id": "79281588",
   "metadata": {},
   "outputs": [],
   "source": [
    "nums = [4, 2, 6, 3, 7, 8, 9, 1, 5]\n",
    "print(f'The min and max are {min(nums)} and {max(nums)}, respectively.')\n",
    "nums = sorted(nums)\n",
    "print(f'The sorted list is: {nums}')"
   ]
  },
  {
   "cell_type": "markdown",
   "id": "fa52c29a",
   "metadata": {},
   "source": [
    "But we also mentioned there were cool **methods** associated with lists.\n",
    "Methods are essentially the same as functions, but they're bound to a particular _object_, which in this case is the `list` object.\n",
    "Methods in general are called using the syntax `object_name.method_name()`.\n",
    "\n",
    "#### Adding extra elements to the list\n",
    "\n",
    "List methods are commonly used to modify the list. \n",
    "- `list.append(obj)` is a method that takes in a single argument and appends that object as the next element in the list.\n",
    "    - This is a very common way to create lists by starting with an empty list `[]` and progressively adding new elements into the list.\n",
    "- If you want to insert that object at a different position in the list, you will want to use the `list.insert(ind, obj)` function to insert `obj` at index `ind`."
   ]
  },
  {
   "cell_type": "code",
   "execution_count": null,
   "id": "e1e8842e",
   "metadata": {},
   "outputs": [],
   "source": [
    "ints = []\n",
    "for i in range(3):\n",
    "    ints.append(i)\n",
    "    print(ints)\n",
    "\n",
    "for i in range(4, 7):\n",
    "    ints.append(i)\n",
    "    print(ints)\n",
    "\n",
    "ints.insert(3, '3')\n",
    "print(ints)"
   ]
  },
  {
   "cell_type": "markdown",
   "id": "135ed1cd",
   "metadata": {},
   "source": [
    "#### Removing existing elements from the list\n",
    "\n",
    "You can also remove elements from lists.\n",
    "- The `list.pop(ind)` method remove the element at the _index_ `ind`. \n",
    "    - If `ind` is not specified, then `list.pop()` will remove the last element of the list.\n",
    "- The `list.remove(obj)` method removes the _first occurrence_ of `obj` in the list.\n",
    "    - This is for when you know the _value_ you want to remove, as opposed to the _index_ you want to remove elements at.\n",
    "\n",
    "Please see [the documentation](https://docs.python.org/3/tutorial/datastructures.html) for more information on `list` methods. \n",
    "Two that we did not discuss here that could come in handy are `list.index(obj)` and `list.copy()`.\n",
    "\n",
    "### Exercise: add \"Ryan\" to the end of the `students` list and then remove him. Then add \"Enze\" at the correct alphabetical position and remove him."
   ]
  },
  {
   "cell_type": "code",
   "execution_count": null,
   "id": "9eda7ac7",
   "metadata": {},
   "outputs": [],
   "source": [
    "# -------------   WRITE YOUR CODE IN THE SPACE BELOW   ---------- #\n"
   ]
  },
  {
   "cell_type": "markdown",
   "id": "68a3219a",
   "metadata": {},
   "source": [
    "#### The `enumerate()` function\n",
    "\n",
    "We've kinda deviated from MSE examples, so let's go back to that.\n",
    "In materials informatics, we'll be working with large collections of data, which you can now somewhat imagine might be stored in a list!\n",
    "And if we want to access each of these pieces of data, we'll have to loop through the list.\n",
    "\n",
    "And now we might hit our first little obstacle: Should we loop through the _indices_ of the list, a la:\n",
    "```python\n",
    "for i in range(len(my_list)):\n",
    "    curr = my_list[i]\n",
    "    # do something related to i and curr; but seems clunky\n",
    "```\n",
    "or should we loop through the _actual values_ in the list, a la:\n",
    "```python\n",
    "for val in my_list:\n",
    "    # do something with val; index probably not recoverable\n",
    "```\n",
    "\n",
    "First, it's probably good to pause and convince yourself that the two `for` loops are doing slightly different things. 🛑\n",
    "\n",
    "-----\n",
    "\n",
    "For the most part, you can take your pick; if knowing the index is valuable (e.g., numbering) you can use the former construction, while if it's only values you care about, you can use the latter.\n",
    "\n",
    "_But_, it's your lucky day, because _we can actually do both_ with the `enumerate(list)` function!\n",
    "An example of how this is called (with a list of the first three students) is the following:\n",
    "```python\n",
    "for i, name in enumerate(students[:3]):\n",
    "    print(f'Student {i}: {name}')\n",
    "```\n",
    "which would output:\n",
    "```\n",
    "Student 0: Alexa\n",
    "Student 1: Eddie\n",
    "Student 2: Kevin\n",
    "```\n",
    "\n",
    "### Exercise: given a list of the first ten elements, print the element symbol and atomic number"
   ]
  },
  {
   "cell_type": "code",
   "execution_count": null,
   "id": "ccb5756d",
   "metadata": {},
   "outputs": [],
   "source": [
    "elems = ['H', 'He', 'Li', 'Be', 'B', 'C', 'N', 'O', 'F', 'Ne']\n",
    "# -------------   WRITE YOUR CODE IN THE SPACE BELOW   ---------- #\n"
   ]
  },
  {
   "cell_type": "markdown",
   "id": "23fec51a",
   "metadata": {},
   "source": [
    "### Creating lists with list comprehension\n",
    "\n",
    "For the final topic on lists, we'll discuss creating lists, which means we've come full-circle from where we started.\n",
    "You've already seen a few ways we can create lists: \n",
    "- We can hard-code the list, like `elems` in the previous exercise.\n",
    "- We can create an empty list `[]` and then add elements to it with `list.append()`.\n",
    "\n",
    "Now we will cover yet another Pythonic tool in list creation: The **list comprehension**.\n",
    "You can think of it as a compact way of using a `for` loop to enumerate your list elements.\n",
    "In a way, this is a little bit like cheating because a list comprehension typically creates a new list _from an existing list_.\n",
    "The syntax is as follows:\n",
    "```python\n",
    "new_list = [expression for item in old_list]\n",
    "```\n",
    "\n",
    "It looks simple, but don't be fooled because this is extremely powerful!\n",
    "Here are a few examples:"
   ]
  },
  {
   "cell_type": "code",
   "execution_count": null,
   "id": "ff65520a",
   "metadata": {},
   "outputs": [],
   "source": [
    "old_list = [1, 2, 3, 4, 5, 6, 7, 8]\n",
    "print([x for x in old_list])                 # a direct copy of the list \n",
    "print([i for i in range(1, 9)])              # here's how we could have programmatically initialized it!\n",
    "print([float(x) for x in old_list])          # each element is cast to float type\n",
    "print(['ha' for x in old_list])              # 'ha' is created len(old_list) times\n",
    "print([x for x in old_list if x % 2 == 0])   # we can get real fancy with conditionals; only even nums kept\n",
    "print([x if x % 2 == 0 else 'odd!' for x in old_list])"
   ]
  },
  {
   "cell_type": "markdown",
   "id": "674c25b3",
   "metadata": {},
   "source": [
    "## Strings revisited\n",
    "\n",
    "Just when you think it can't get any <s>worse</s>better, we're back with some more strings fun.\n",
    "We mention that a `list` is an ordered sequence of objects.\n",
    "If we think a little bit about strings, we realize that, hey, strings are also ordered sequences [of characters]!\n",
    "This means that in Python, we can index into strings and slice them to get substrings."
   ]
  },
  {
   "cell_type": "code",
   "execution_count": null,
   "id": "92e9a5d8",
   "metadata": {},
   "outputs": [],
   "source": [
    "fact = 'Elon Musk pursued a PhD in MSE.'\n",
    "print(f'The first character is: {fact[0]}')\n",
    "print(f'The last character is: {fact[-1]}')\n",
    "print(f'Somewhere in the middle is: {fact[10:23]}.')\n",
    "print(f'The last four characters are: {fact[-4:]}')"
   ]
  },
  {
   "cell_type": "markdown",
   "id": "616e7453",
   "metadata": {},
   "source": [
    "We can call a for-each loop on the string to iterate through the characters, and call functions/[methods](https://docs.python.org/3/library/stdtypes.html#string-methods) on the string.\n",
    "Some common functions/methods that you might use are:\n",
    "- `len(str)`: Gets the length of the `str` (number of characters).\n",
    "- `str.startswith(str2)`/`str.endswith(str2)`: Checks if `str` starts/ends with the string sequence `str2` and returns a `bool`.\n",
    "Super useful when reading lines in a file! (more on files later)\n",
    "- `str.capitalize()`/`str.upper()`/`str.lower()`: Capitalize/UPPERCASE/lowercase the `str`.\n",
    "Good for checking equality while ignoring subtle styling differences."
   ]
  },
  {
   "cell_type": "code",
   "execution_count": null,
   "id": "22b4993b",
   "metadata": {},
   "outputs": [],
   "source": [
    "elem = 'carbon'\n",
    "print(f'The string has length {len(elem)}.')\n",
    "print(f'Does \"carbon\" start with \"car?\" {elem.startswith(\"car\")}.')\n",
    "print(f'Does \"carbon\" end with \"car?\" {elem.endswith(\"car\")}.')\n",
    "for c in elem:\n",
    "    print(c)\n",
    "print(f'The capitalized string is: {elem.capitalize()}')\n",
    "print(f'\"{elem}\" matches with \"cArBOn\" if we convert both to lower: {elem.lower() == \"cArBOn\".lower()}')"
   ]
  },
  {
   "cell_type": "markdown",
   "id": "99a255dc",
   "metadata": {},
   "source": [
    "Here are a few more super helpful string methods when doing data processing:\n",
    "\n",
    "- `str.split(delim)`: Take a `str` and split it into a list of substrings everytime the string `delim` (short for \"delimiter\") is encountered in the `str`. \n",
    "The instances of `delim` don't appear in the list.\n",
    "    - If `delim` is not specified, the `str` is split on spaces.\n",
    "- `str.join(list)`: Take a `list` of strings and join the elements together with `str` in between them and return the result.\n",
    "    - Note where the `str` and `list` are in this method!\n",
    "    It's a _string_ method, so the `str` goes first.\n",
    "- `str.strip()`: Removes whitespace and other \"invisibles\" like newline (`'\\n'`), tabs (`'\\t'`) etc. on both sides of the string. \n",
    "Really helpful when working with computational data (and any other data) that has extra whitespace to help make the document human readable, but really annoying for a computer to deal with.\n",
    "\n",
    "See the [Python docs](https://docs.python.org/3/library/stdtypes.html#string-methods) for all the string methods."
   ]
  },
  {
   "cell_type": "code",
   "execution_count": null,
   "id": "04af1f36",
   "metadata": {},
   "outputs": [],
   "source": [
    "date_underscore = '2021_06_28'\n",
    "date_split = date_underscore.split('_')   # split into tokens based on _\n",
    "print(date_split)                         # a list!\n",
    "date_hyphen = '-'.join(date_split)        # note the order!\n",
    "print(date_hyphen)                        # a new date string!"
   ]
  },
  {
   "cell_type": "markdown",
   "id": "fb14b6da",
   "metadata": {},
   "source": [
    "Wow, who would've expected that `str` and `list` are so similar?\n",
    "Unfortunately, there is one big difference between the two, and that is that `list` is mutable, but `str` is **immutable**.\n",
    "This means that you cannot change the contents of `str` after it's been created.\n",
    "We can join strings together, slice them, and reassign the variables, but each time this will create a _new_ `str` object in memory.\n",
    "\n",
    "What we _cannot_ do, for example, is manually change a character in the string to be something else.\n",
    "Recall that in a `list`, we are allowed to change the element at a particular index ('Luis' to 'Louie')."
   ]
  },
  {
   "cell_type": "code",
   "execution_count": null,
   "id": "5a53a090",
   "metadata": {},
   "outputs": [],
   "source": [
    "name = 'Enze'\n",
    "print(name.replace('e', 'o'))   # this works! Another helpful string method. But it creates a new string behind the scenes.\n",
    "name[3] = 'o'                   # changing the string in-place, however, does not work; raises error"
   ]
  },
  {
   "cell_type": "markdown",
   "id": "3eeb1246",
   "metadata": {},
   "source": [
    "### Exercise: string vs. list\n",
    "\n",
    "A conceptual question: Identify one way `string` and `list` are similar in Python and one way they're different.\n",
    "Write your answer here by editing this Markdown cell.\n",
    "\n",
    "**Answer**:\n",
    "Write your answer here by editing the Markdown cell.\n",
    "\n"
   ]
  },
  {
   "cell_type": "markdown",
   "id": "38783fb5",
   "metadata": {},
   "source": [
    "### Exercise: parsing strings\n",
    "\n",
    "Often times when working with data, files, etc., we have to take slices of strings (substrings), split them, join them, etc. \n",
    "This can be to extract the name of a compound, a date, an experimental parameter, etc.\n",
    "Since we have a lot of data, we would like to come up with a robust algorithm that can flexibly handle a variety of inputs (assuming that some overall structure is maintained—not always a safe assumption in the wild!).\n",
    "\n",
    "Your colleague gives you a list of files with absorption data and asks you to extract the chemical formulas from the file path and store them into a list.\n",
    "The files are stored in different nested folders, but the filename is always `[formula]_[date].txt`.\n",
    "\n",
    "They would also like to have the collection date stored in the format `MM-DD-YY` with hyphens instead of the default underscores generated by the program.\n",
    "The `data` input list of files is provided below, and your job is to create two lists that look like:\n",
    "\n",
    "```python\n",
    "formulas = ['Si', 'GaAs', 'InP', 'AlGaAs']\n",
    "dates = ['06-28-21', '06-28-21', '06-29-21', '06-30-21']\n",
    "```\n",
    "\n",
    "_Hints_: \n",
    "- You might want to apply [`str.split()`](https://docs.python.org/3/library/stdtypes.html#str.split), [`str.join()`](https://docs.python.org/3/library/stdtypes.html#str.join), and indexing/slicing.\n",
    "- We recommend thinking through all the steps required to solve this problem before jumping into the code. \n",
    "Write some comments (or **pseudocode**) to help guide your computational thinking process.\n",
    "- We also recommend solving this problem iteratively, doing one string operation at a time and verifying that step works.\n",
    "    - In particular, this problem calls for a `for` loop, but focus on just getting the first file name processed."
   ]
  },
  {
   "cell_type": "code",
   "execution_count": null,
   "id": "4a8269c2",
   "metadata": {},
   "outputs": [],
   "source": [
    "data = ['path/to/absorption/data/Si_06_28_21.txt', \n",
    "        'path/to/absorption/data/GaAs_06_28_21.txt',\n",
    "        'different/path/to/absorption/data/InP_06_29_21.txt',\n",
    "        'path/to/more/absorption/data/AlGaAs_06_30_21.txt']\n",
    "# -------------   WRITE YOUR CODE IN THE SPACE BELOW   ---------- #\n"
   ]
  },
  {
   "cell_type": "markdown",
   "id": "901e3460",
   "metadata": {},
   "source": [
    "### Exercise: functions and lists\n",
    "\n",
    "![band gap](../../assets/fig/week_1/01/band_gap.png)\n",
    "\n",
    "Now we'll go through another exercise with lists, this time by writing your own helper function.\n",
    "Mark gives you some data on band gaps, but his evil twin Kram changed the values from `float` to `string`.\n",
    "This makes it difficult to work with (try running the code below).\n",
    "\n",
    "Write a **helper function** that takes the list of strings as input and **returns** a list of corresponding floats.\n",
    "Also return the minimum and maximum values in the list.\n",
    "Finally, call the function on the band gap data to ensure it works as expected. \n",
    "Your final returned result should be similar to:\n",
    "```python\n",
    "([1.14, 1.43, 0.67, 5.5, 3.4, 0.37, 0.0001, 10.0], 0.0001, 10.0)\n",
    "```"
   ]
  },
  {
   "cell_type": "code",
   "execution_count": null,
   "id": "35c86c3d",
   "metadata": {},
   "outputs": [],
   "source": [
    "band_gaps = ['1.14', '1.43', '0.67', '5.5', '3.4', '0.37', '1e-4', '1e1']\n",
    "print(f'The maximum band gap value in the original list is {max(band_gaps)} eV')   # ???\n",
    "# -------------   WRITE YOUR CODE IN THE SPACE BELOW   ---------- #\n"
   ]
  },
  {
   "cell_type": "markdown",
   "id": "b9393162",
   "metadata": {},
   "source": [
    "## Dictionaries\n",
    "\n",
    "Lists are nice when we want to organize our data and access them later using an index.\n",
    "But there are times when we want to have a different data access pattern.\n",
    "For example, if we wanted to get chemical data on the elements, we're never really going to say, \"Oh I want to access the fifth property of the third element;\" but rather, \"What is the atomic mass of lithium?\"\n",
    "\n",
    "This calls for a new data structure!\n",
    "**Dictionary** (`dict` class) is a data structure that contains a collection of `key:value` pairs.\n",
    "It is, just like a dictionary, a mapping between a particular `key` (like a word) to its associated `value` (like a definition).\n",
    "They are created using curly braces `{}` and the entries are comma-separated tokens of `key`:`value` pairs separated by **colons**.\n",
    "Examples include:"
   ]
  },
  {
   "cell_type": "code",
   "execution_count": null,
   "id": "e820f1e8",
   "metadata": {},
   "outputs": [],
   "source": [
    "empty = {}      # the empty dictionary\n",
    "schools = {'UC Berkeley':1, 'UCLA':2, 'Stanford':2}\n",
    "band_gaps = {'copper':0, 'silicon':1.1, 'diamond':5.0}\n",
    "props = {'lithium':{'number':3, 'mass':6.941, 'group':'alkali metal'}}   # nested dictionary with many types!"
   ]
  },
  {
   "cell_type": "markdown",
   "id": "ea14a7c8",
   "metadata": {},
   "source": [
    "### Access entries\n",
    "\n",
    "To access individual entries of the dictionary, use the syntax\n",
    "```python\n",
    "my_dict[key]\n",
    "```\n",
    "to get the `value` associated with the `key`.\n",
    "Just like with lists, the syntax is the same for getting the value and for setting the value (`dict`s, like `list`s, are _mutable_).\n",
    "\n",
    "\n",
    "### Adding new entries\n",
    "\n",
    "To add an entry to a dictionary, we specify a new `key`:`value` pair:"
   ]
  },
  {
   "cell_type": "code",
   "execution_count": null,
   "id": "8ead4d13",
   "metadata": {},
   "outputs": [],
   "source": [
    "band_gaps['germanium'] = 0.67   # new entry!\n",
    "band_gaps['copper'] = 0.0       # this overrides the old entry! \n",
    "print(band_gaps)"
   ]
  },
  {
   "cell_type": "markdown",
   "id": "187018bd",
   "metadata": {},
   "source": [
    "A few notes on dictionaries in Python:\n",
    "- The keys of a dictionary **must be unique**. \n",
    "Otherwise you can imagine how confusing it is for two keys to map to different values.\n",
    "Multiple keys can have the same value though.\n",
    "- What can the `key` be?\n",
    "The key can be any type that is _immutable_. \n",
    "- What can the `value` be?\n",
    "Essentially unrestricted—they can even be other dictionaries!\n",
    "- We stressed with `list`s how they have the nice property of being ordered. \n",
    "`dict`s in Python, for the most part, _are not ordered_. \n",
    "So there's no real sense of \"the first entry\" or \"the second-to-last entry\" in the dictionary.\n",
    "If this is the case, how do we programmatically access what's in the dictionary? **for-each** loops!\n",
    "\n",
    "### Loop through the dictionary with for-each loops"
   ]
  },
  {
   "cell_type": "code",
   "execution_count": null,
   "id": "31ffcae7",
   "metadata": {},
   "outputs": [],
   "source": [
    "# loop through the entries themselves\n",
    "for item in band_gaps.items():\n",
    "    print(f'{item[0]} has a band gap of {item[1]} eV.')   # access the key:value tokens using indices\n",
    "print()\n",
    "\n",
    "# same as before, but we store the two returned tokens (key, value) separately! hehe\n",
    "# this is LIKELY the pattern you will use in 90% of use cases\n",
    "for elem, val in band_gaps.items():\n",
    "    print(f'{elem} has a band gap of {val} eV.')\n",
    "print()\n",
    "\n",
    "# loop through the dictionary keys only\n",
    "# for key in band_gaps:          # this works... \n",
    "for key in band_gaps.keys():     # but this second way might be nicer because it's explicit\n",
    "    print(key)\n",
    "print()\n",
    "\n",
    "# loop through the dictionary values only\n",
    "for val in band_gaps.values():\n",
    "    print(val)"
   ]
  },
  {
   "cell_type": "markdown",
   "id": "e93aef47",
   "metadata": {},
   "source": [
    "### Exercise: manually initiatize a dictionary mapping the first six elements (symbol as a `str`) to their atomic number (as an `int`). Then print each `key`:`value` pair of the dictionary on its own line (don't just print the whole dictionary)"
   ]
  },
  {
   "cell_type": "code",
   "execution_count": null,
   "id": "67aaf1da",
   "metadata": {},
   "outputs": [],
   "source": [
    "# -------------   WRITE YOUR CODE IN THE SPACE BELOW   ---------- #\n"
   ]
  },
  {
   "cell_type": "markdown",
   "id": "2ae4ad17",
   "metadata": {},
   "source": [
    "<div class=\"alert alert-block alert-warning\">\n",
    "    <center><b>~ BREAK ~</b></center>\n",
    "    At this point, we highly suggest you give yourself a decent break before continuing further. 🥰\n",
    "    Get a drink of water, go grab a bite, or at least stand up and stretch to give your eyes a break.\n",
    "    You all are awesome!! 🙌\n",
    "</div>"
   ]
  },
  {
   "cell_type": "markdown",
   "id": "5874d821",
   "metadata": {},
   "source": [
    "## Working with files\n",
    "\n",
    "[Back to top](#Contents)\n",
    "\n",
    "As alluded to previously, most of the time, our data will be stored in external files rather than hard coded like the previous examples, so we **must be proficient** in working with files. \n",
    "On Tuesday, we'll be going through several examples with different file formats that are commonly used in MI, but here we will discuss the common paradigm when working with text-based files.\n",
    "Our goal here will be to read-in and process text files using Python.\n",
    "\n",
    "As we mentioned in the introduction, one of the biggest challenges in MI is data representation, and working with text files is no different.\n",
    "How do we represent the data in text files?\n",
    "Well, since the data inside the files (i.e., each line) are _text_, we already know how to encode that: **as a string**!\n",
    "And if we treat each line as a string, and think of the entire file as an _ordered collection_ of lines, we already know how to encode that too: **in a list**!\n",
    "Maybe we can represent the file in Python as a `list` of `str`s.\n",
    "And so with a little bit of thinking, we are able to solve this abstract problem of \"storing files in Python\" using concrete concepts we already know."
   ]
  },
  {
   "cell_type": "markdown",
   "id": "d0a0aae2",
   "metadata": {},
   "source": [
    "### A small digression...\n",
    "\n",
    "In fact, when you're working on future problems in this module and beyond, you'll have to do this a lot: converting between scientific/real-world concepts and the logic/structure in code.\n",
    "We understand this is really challenging and daunting at first, so we offer the following sequence of steps that you might find helpful.\n",
    "\n",
    "1. Forget about the code. 😂\n",
    "What is the problem at hand, and what is the goal? **Always focus on the goal**. 😤\n",
    "1. What sequence of steps will get me to the goal? Will programming even help?\n",
    "    - Alright, so now this raises the question of _when_ might we use a programmatic approach?\n",
    "    - Generally if you have a large sequence of repetitive steps that you want to _automate_, that's a good sign.\n",
    "    - Particularly if the sequence of steps is _reusable_ for later tasks. This smells like a function.\n",
    "    - If you have a sequence of steps that you want to ensure _reproducibility_, that's also a good sign.\n",
    "    - For other reasons, see our \"Pros and Cons\" brainstorming exercise. 🙂\n",
    "1. If you decide that a programmatic approach is what you need, you can try the following:\n",
    "    - First, **take a deep breath**. A programmatic solution is hard because it's _new and not the way we typically think_; it's the way computers think.\n",
    "    You will find that, in our opinion, the actual code that you end up writing is _not too difficult_;\n",
    "    at least relative to the amount of brainstorming/planning that goes into the solution.\n",
    "    - Like in the previous section, relate parts of the problem to the programmatic concepts you already know.\n",
    "    Some good heuristics in this regard are thinking through the data types (Text? Try strings. Numbers? Try floats), data structures (Ordered sequence? Try a list. Lookup table? Try a dictionary.), and control flow (Branching logic? Try if/else. Repetitive logic? Try loops) involved.\n",
    "    - Reframe the original scientific problem as a programming problem.\n",
    "    - Plan out a sequence of steps (on paper, or as comments in the code) as an initial solution. No code.\n",
    "1. Finally, code it up. 😎"
   ]
  },
  {
   "cell_type": "markdown",
   "id": "e386b8b1",
   "metadata": {},
   "source": [
    "### OK back to the problem!\n",
    "\n",
    "Applying the previous steps to our current problem, we see that we should now be tackling the problem: \"How do I turn the file contents into a list of strings?\"\n",
    "If we can do this, then we can use what we know about lists and strings to \"read\" the file.\n",
    "\n",
    "As you might expect, there are many ways to read files in Python, and it all starts with _opening the file_.\n",
    "Like a book, you can't read a file if you don't open it.\n",
    "The _best way_ (safest, cleanest, recommended) to open files in Python is with the following syntax:\n",
    "```python\n",
    "with open('path/to/file.txt', 'r') as f:\n",
    "    # do something with file object f\n",
    "```\n",
    "\n",
    "Let's break this down:\n",
    "- `with` is a handy keyword in Python that, among other things, ensures that our file is safely _closed_ after we're done with it.\n",
    "- `open()` is the built-in function to open a file.\n",
    "- `'path/to/file.txt'` is a string that represents the location of the file.\n",
    "    - `.txt` is the extension of text files. Your file may have a different extension.\n",
    "- `'r'` is a string that means \"read the file.\" Later we'll see that `'w'` _writes_ to a file.\n",
    "- `as` is another keyword for assiging aliases.\n",
    "- `f` is a variable for the **file object** that now represents our file in the computer memory.\n",
    "- Note that like `if` statements and `for` loops, the body for our file processing code is indented!\n",
    "\n",
    "OK! We're one step closer to our goal, because now we've loaded the file into memory.\n",
    "But note that `f` is the _file_, not necessarily its _contents_ (grr...), so we offer two solutions for accessing the contents of `f`.\n",
    "\n",
    "#### Method 1: Load all lines into memory as a list of strings\n",
    "```python\n",
    "with open('path/to/file.txt', 'r') as f:\n",
    "    lines = f.readlines()\n",
    "    # do something with lines, such as a for loop through them\n",
    "```\n",
    "\n",
    "#### Method 2: Read the lines of the file one at a time\n",
    "```python\n",
    "with open('path/to/file.txt', 'r') as f:\n",
    "    for i, line in enumerate(f):\n",
    "        # do something with each line, such as print it\n",
    "```\n",
    "\n",
    "Method 1 works pretty well (it's exactly what we said we needed, haha), and we end up with a list that we can manipulate as we wish.\n",
    "One of the more significant drawbacks of this method is that it can be incredibly memory intensive if our file is very large.\n",
    "In Module 3, you will see files (from DFT) that are very large with hundreds of thousands of lines. 😅\n",
    "\n",
    "Method 2 is efficient and we can process each line as we go.\n",
    "One of the more significant drawbacks of this method is that we can't go back to a previous line once we're finished with it.\n",
    "We would have to re-open and re-read the file."
   ]
  },
  {
   "cell_type": "markdown",
   "id": "21653d29",
   "metadata": {},
   "source": [
    "### Exercise: reading files\n",
    "\n",
    "Using either of the previous methods, open the file `mentors.txt` (full relative path given below), read in the contents, and **print out each line**.\n",
    "In your DataHub, find the original file and open it up to compare the contents with what's printed below.\n",
    "Does anything surprise you?"
   ]
  },
  {
   "cell_type": "code",
   "execution_count": null,
   "id": "a0a99ae2",
   "metadata": {},
   "outputs": [],
   "source": [
    "filepath = '../../assets/data/week_1/01/mentors.txt'\n",
    "# -------------   WRITE YOUR CODE IN THE SPACE BELOW   ---------- #\n"
   ]
  },
  {
   "cell_type": "markdown",
   "id": "b037d91f",
   "metadata": {},
   "source": [
    "You should notice that there is an extra blank line between each entry in the printout that is not present in the original `mentors.txt` file. \n",
    "This is extremely subtle because when Python reads in files, it also reads the **newline character** (`'\\n'`) at the end of each line; however, the `print()` function _also_ adds `'\\n'` at the end of each printout, which is why you see an extra blank line.\n",
    "\n",
    "### Exercise: add a single method from the `str` class to the above code to eliminate the blank line by _stripping away_ the `\\n` character from each line in the file"
   ]
  },
  {
   "cell_type": "markdown",
   "id": "1613c101",
   "metadata": {},
   "source": [
    "### Writing files\n",
    "\n",
    "Writing files (such as strings stored in a list) has a similar syntax to reading files, but we change `r` to `w`.\n",
    "```python\n",
    "with open('path/to/file.txt', 'w') as f:\n",
    "    # write some stuff to f\n",
    "```\n",
    "\n",
    "To write text to a file, we can use the method `f.write(string)`.\n",
    "This writes `string` into an open file represented by the object `f`.\n",
    "Note that a newline **is not** automatically created between each `write()`, so we have to remember to add `'\\n'` to the end of each string, or else each call to `write()` will put the strings on the same line!\n",
    "\n",
    "After you run the following code, you can open up the `mentors2.txt` file and marvel at your work!\n",
    "For more information on input/output (I/O) in Python, see [the documentation](https://docs.python.org/3/tutorial/inputoutput.html)."
   ]
  },
  {
   "cell_type": "code",
   "execution_count": null,
   "id": "07e961a6",
   "metadata": {},
   "outputs": [],
   "source": [
    "inst = ['Sinead', 'Ryan', 'Mark', 'Enze']\n",
    "with open('../../assets/data/week_1/01/mentors2.txt', 'w') as f:\n",
    "    for ix in inst:\n",
    "        ix += '\\n'    # add the newline character!\n",
    "        f.write(ix)   # write the name to the file"
   ]
  },
  {
   "cell_type": "markdown",
   "id": "569b2d30",
   "metadata": {},
   "source": [
    "### Materials structure\n",
    "\n",
    "First, we'll discuss a little bit about the science to provide context and motivation.\n",
    "In MSE, we are often concerned with the characteristics of and relationships between four central tenets: **processing**, **structure**, **properties**, and **performance** (PSPP). \n",
    "As all of these points heavily influence each other, their relationship (and thus, the whole endeavor of MSE) is typically summarized by the following schematic [from Wikipedia](https://en.wikipedia.org/wiki/Materials_science#Fundamentals):\n",
    "\n",
    "![MSE_tetrahedron](../../assets/fig/week_1/01/mse_tetrahedron.png)"
   ]
  },
  {
   "cell_type": "markdown",
   "id": "dc415a6c",
   "metadata": {},
   "source": [
    "In this exercise, we're focusing on the structure component of the above tetrahedron.\n",
    "But note that when we talk about \"materials structure,\" there are actually many possible length scales on which we can describe the structure.\n",
    "\n",
    "![length scales](../../assets/fig/week_1/01/length_scales.png)\n",
    "\n",
    "In this problem, we're looking at the **ground-state crystal structure** of the elements, which is on the far-left end of the above scale.\n",
    "Here the length scales are typically on the order of Angstroms, or $10^{-10}$ meters.\n",
    "Moreover, the crystal structures of all crystalline materials can be classified into 14 different [**Bravais lattices**](https://en.wikipedia.org/wiki/Bravais_lattice) that can be further grouped into six **crystal families**, as shown here:\n",
    "\n",
    "![crystal family](../../assets/fig/week_1/01/crystal_family.png)\n",
    "\n",
    "The crystal structure (lattice + basis) determines the symmetries of the system and has considerable influence on the physical, mechanical, optoelectronic, and magnetic properties of the material.\n",
    "Later this week, we'll see how we can encode and leverage this structural information to aid our data analysis."
   ]
  },
  {
   "cell_type": "markdown",
   "id": "d342096f",
   "metadata": {},
   "source": [
    "### Exercise: Reading files\n",
    "\n",
    "We've included a file `element_structure.txt` that contains information on the crystal family of the first 50 elements in the periodic table.\n",
    "The first few lines of the file look like:\n",
    "```\n",
    "# Data from https://periodictable.com/Properties/A/CrystalStructure.html\n",
    "Hydrogen Hexagonal\n",
    "Helium Cubic\n",
    "Lithium Cubic\n",
    "Beryllium Hexagonal\n",
    "```\n",
    "where there's a comment in the first line and the subsequent lines are the element and family separated by a single space.\n",
    "In this first example, read in the file and print out the first ten elements along with their atomic number.\n",
    "You should not have to rely on other packages, just native Python.\n",
    "Your output should look something like this ([leading zeros](https://stackoverflow.com/questions/134934/display-number-with-leading-zeros) are bonus points!):\n",
    "```\n",
    "01 Hydrogen\n",
    "02 Helium\n",
    "...\n",
    "10 Neon\n",
    "```\n",
    "\n",
    "_Hint_: You might want to use \n",
    "- [`enumerate()`](https://docs.python.org/3/library/functions.html#enumerate) to read each line.\n",
    "- [`str.startswith()`](https://docs.python.org/3/library/stdtypes.html#str.startswith) and `continue` to skip lines you don't want to read.\n",
    "- [`str.split()`](https://docs.python.org/3/library/stdtypes.html#str.split) to extract the necessary information.\n",
    "- `break` to stop the loop early."
   ]
  },
  {
   "cell_type": "code",
   "execution_count": null,
   "id": "97369d7b",
   "metadata": {
    "scrolled": false
   },
   "outputs": [],
   "source": [
    "crystal_data = '../../assets/data/week_1/01/element_structure.txt'\n",
    "# -------------   WRITE YOUR CODE IN THE SPACE BELOW   ---------- #\n"
   ]
  },
  {
   "cell_type": "markdown",
   "id": "2a72d36d",
   "metadata": {},
   "source": [
    "### Exercise: creating a dictionary\n",
    "\n",
    "Using the same file as the previous exercise, **read in the data from the file and store them into a dictionary** where the `key:value` pairs are `element:family`.\n",
    "The first few entries of the dictionary will look similar to (order might be different; that's OK):\n",
    "```\n",
    "{'Hydrogen': 'Hexagonal',\n",
    " 'Helium': 'Cubic',\n",
    " 'Lithium': 'Cubic',\n",
    " 'Beryllium': 'Hexagonal',\n",
    " ...\n",
    "```\n",
    "\n",
    "Dictionaries are nice because they serve as quick lookup tables when we want to find associated values.\n",
    "For those who have learned a bit about algorithmic efficiency, you might be interested to know that a Python dictionary has _constant_ lookup time, whether that dictionary has ten or ten million entries!"
   ]
  },
  {
   "cell_type": "code",
   "execution_count": null,
   "id": "e93e0c7a",
   "metadata": {
    "scrolled": true
   },
   "outputs": [],
   "source": [
    "crystal_data = '../../assets/data/week_1/01/element_structure.txt'\n",
    "# -------------   WRITE YOUR CODE IN THE SPACE BELOW   ---------- #\n"
   ]
  },
  {
   "cell_type": "markdown",
   "id": "10c86a26",
   "metadata": {},
   "source": [
    "### Exercise: inverting the dictionary\n",
    "\n",
    "Now take that dictionary you created in the previous exercise and \"invert\" it. \n",
    "By this, we mean turn the values into keys and keys into values (still corresponding).\n",
    "Doing this allows us to, for example, find all elements that have a similar crystal structure, if we're only searching for materials with that structure.\n",
    "\n",
    "Notice that because **keys have to be unique** in a dictionary, the same crystal family (e.g., `Cubic`) will correspond to multiple elements (e.g., `Helium`, `Lithium`, `Neon`).\n",
    "Therefore, the `value` corresponding to each `key` in the inverted dictionary should be a **list** of all the elements belonging to that family.\n",
    "\n",
    "Your code takes the previous dictionary as input and returns another dictionary that will look similar to (order of keys and values doesn't matter):\n",
    "```\n",
    "{'Hexagonal': ['Hydrogen', 'Beryllium', 'Carbon', ...],\n",
    " 'Cubic': ['Helium', 'Lithium', 'Neon', ...],\n",
    " 'Trigonal': ['Boron', 'Arsenic'],\n",
    " 'Monoclinic': ['Oxygen', 'Fluorine', 'Selenium'],\n",
    " 'Triclinic': ['Phosphorus'],\n",
    " 'Orthorhombic': ['Sulfur', 'Chlorine', 'Gallium', 'Bromine'],\n",
    " 'Tetragonal': ['Indium', 'Tin']\n",
    "}\n",
    "```\n",
    "\n",
    "_Hint_: You might have to check to see if a `value` from the original dictionary (i.e. crystal family) current exists as a `key` in your new dictionary.\n",
    "This is a tricky problem, so take it slow and don't give up!"
   ]
  },
  {
   "cell_type": "code",
   "execution_count": null,
   "id": "a9f8ad2e",
   "metadata": {
    "scrolled": true
   },
   "outputs": [],
   "source": [
    "# -------------   WRITE YOUR CODE IN THE SPACE BELOW   ---------- #\n"
   ]
  },
  {
   "cell_type": "markdown",
   "id": "2f4f1557",
   "metadata": {},
   "source": [
    "## The NumPy package\n",
    "\n",
    "[Back to top](#Contents)\n",
    "\n",
    "So far, everything that we've done is with native Python; in other words, the functions and data that come with the default Python installation.\n",
    "However, one of the advantages of Python is its **extensibility**, which comes in the form of various **packages** (i.e., libraries) that allow you to do more with Python.\n",
    "A default Python installation comes with a few extra packages installed, while others you have to install on your own.\n",
    "\n",
    "In all cases, before you can use the functions inside a package, you have to **import** it like the following example:"
   ]
  },
  {
   "cell_type": "code",
   "execution_count": null,
   "id": "564f1c3a",
   "metadata": {},
   "outputs": [],
   "source": [
    "import os            # this package allows your code to interface with your operating system\n",
    "print(os.getcwd())   # this is a function from the os package. We include the package namespace"
   ]
  },
  {
   "cell_type": "markdown",
   "id": "1d5e6cbf",
   "metadata": {},
   "source": [
    "You'll notice that in the above example, we had to type `os.function_name()` to use any function from the `os` package.\n",
    "This will be true for all packages.\n",
    "However, if the specific function is one that we use frequently, we can directly import it too, using:\n",
    "```python\n",
    "from package import function_1_name, function_2_name, ...\n",
    "```"
   ]
  },
  {
   "cell_type": "code",
   "execution_count": null,
   "id": "0ca3bb12",
   "metadata": {},
   "outputs": [],
   "source": [
    "from os import getcwd\n",
    "print(getcwd())    # now we don't need the \"os.\" prefix"
   ]
  },
  {
   "cell_type": "markdown",
   "id": "2ff47045",
   "metadata": {},
   "source": [
    "### Import NumPy\n",
    "\n",
    "In this last section, we'll be using the [NumPy package](https://numpy.org/) to do scientific computing in Python.\n",
    "It is **absolutely critical** that you are comfortable using NumPy and its associated arrays, modules, and functions because all scientific computing applications and modules rely on this framework.\n",
    "It's now so popular that the developers even published a review article on NumPy last year in [_Nature_](https://www.nature.com/articles/s41586-020-2649-2), one of the top journals in science.\n",
    "\n",
    "To import the NumPy package, it is best practice to actually give it an **alias**. \n",
    "These are abbreviations that typically allow you to reference the package with fewer characters, resulting in cleaner code if you have to call the package _a lot_, which is typically the case with NumPy.\n",
    "The syntax for an alias is:\n",
    "```python\n",
    "import standard_package_name_that_could_be_really_long as short_alias\n",
    "```"
   ]
  },
  {
   "cell_type": "code",
   "execution_count": null,
   "id": "aef09177",
   "metadata": {},
   "outputs": [],
   "source": [
    "import numpy as np    # not too different, but this is best practice"
   ]
  },
  {
   "cell_type": "markdown",
   "id": "e99d6dc7",
   "metadata": {},
   "source": [
    "### NumPy arrays\n",
    "\n",
    "At the heart of NumPy is the **NumPy array**, which is used to store data into a structured format with multiple dimensions.\n",
    "You will find that these arrays function very similarly to arrays in MATLAB!\n",
    "In fact, the NumPy developers even created [a comparison chart](https://numpy.org/doc/stable/user/numpy-for-matlab-users.html) for you.\n",
    "\n",
    "Depending on the dimensionality, these arrays correspond to our conventional notion of scalars (0D), vectors (1D), matrices (2D), and tensors (3D+), and this is described by their `shape` attribute.\n",
    "Each available dimension of the specific array is called an `axis`, which is how we index into them and it factors into certain calculations.\n",
    "The figure below [from O'Reilly](https://www.oreilly.com/library/view/elegant-scipy/9781491922927/ch01.html) illustrates these concepts:\n",
    "\n",
    "![NumPy arrays](../../assets/fig/week_1/01/numpy_arrays.png)"
   ]
  },
  {
   "cell_type": "markdown",
   "id": "c55cc4ff",
   "metadata": {},
   "source": [
    "To create NumPy arrays, we actually have [several options](https://numpy.org/doc/stable/reference/routines.array-creation.html).\n",
    "One of the most straightforward ways, given how arrays look so similar to lists, is to convert a list into an array using the function [`np.array(my_list)`](https://numpy.org/doc/stable/reference/generated/numpy.array.html).\n",
    "\n",
    "The resulting NumPy array is an object of a different type than `list` and also stores its [data type](https://numpy.org/doc/stable/user/basics.types.html), which can be accessed using the `array.dtype` **attribute** (we access attributes of an object using `object.attribute`, no parentheses).\n",
    "NumPy arrays can contain non-numeric types too!"
   ]
  },
  {
   "cell_type": "code",
   "execution_count": null,
   "id": "c8dca1d6",
   "metadata": {},
   "outputs": [],
   "source": [
    "primes_list = [2, 3, 5, 7, 11, 13]           # original data as list of int\n",
    "primes_arr = np.array(primes_list)           # convert to NumPy array of int\n",
    "primes_str = [str(p) for p in primes_list]   # change data to str by casting\n",
    "primes_str_arr = np.array(primes_str)        # convert to NumPy array of str\n",
    "\n",
    "print(f'Regular list: {primes_list}')\n",
    "print(type(primes_list), '\\n')\n",
    "\n",
    "print(f'NumPy array: {primes_arr}')\n",
    "print(type(primes_arr))\n",
    "print(f'This array has data type: {primes_arr.dtype}', '\\n')\n",
    "\n",
    "print(primes_str_arr)\n",
    "print(type(primes_str_arr))\n",
    "print(f'This array has data type: {primes_str_arr.dtype}')"
   ]
  },
  {
   "cell_type": "markdown",
   "id": "8db005f1",
   "metadata": {},
   "source": [
    "Notice how a single list gave us a 1D array (like a **vector**), so as you might imagine, a _nested list of lists_ will give us a 2D array, or a **matrix**, when we call `np.array(my_list_of_lists)` on it.\n",
    "This will only work when the dimensions of the nested lists are consistent.\n",
    "\n",
    "### Exercise: given `num`, create a 2D NumPy array from its data. Print the array to observe the formatting.\n",
    "\n",
    "We can also verify that the array is 2D when we print out its `shape` attribute, which now has two terms `(2, 3)`."
   ]
  },
  {
   "cell_type": "code",
   "execution_count": null,
   "id": "d5b6a340",
   "metadata": {},
   "outputs": [],
   "source": [
    "num = [[1, 2, 3], [4, 5, 6]]   # after your code works, delete the 6 and run it again\n",
    "# -------------   WRITE YOUR CODE IN THE SPACE BELOW   ---------- #\n"
   ]
  },
  {
   "cell_type": "markdown",
   "id": "8917393f",
   "metadata": {},
   "source": [
    "### Creating NumPy arrays\n",
    "\n",
    "There are [many more ways to create NumPy arrays](https://numpy.org/doc/stable/reference/routines.array-creation.html), and we'll demonstrate a few here.\n",
    "\n",
    "In 1D, there are two primary methods we use to create arrays.\n",
    "There is a [`np.arange()`](https://numpy.org/doc/stable/reference/generated/numpy.arange.html) function that works analogously to the `range()` function we saw with `for` loops.\n",
    "It generates a sequence of integers from the starting number (inclusive) to the ending number (exclusive).\n",
    "\n",
    "There is also a [`np.linspace(start, stop, num_points)`](https://numpy.org/doc/stable/reference/generated/numpy.linspace.html) function that works analogously to `linspace()` in MATLAB.\n",
    "This generates a NumPy array of length `num_points` with evenly-spaced points between `start` and `stop`, both inclusive.\n",
    "\n",
    "Note that both functions require specifying the `np` package prefix.\n",
    "\n",
    "\n",
    "### Exercise: create the following 1D arrays\n",
    "\n",
    "- A [range of integers](https://numpy.org/doc/stable/reference/generated/numpy.arange.html) from 0 to 99, inclusive.\n",
    "- An array of 15 [evenly-spaced numbers](https://numpy.org/doc/stable/reference/generated/numpy.linspace.html) from 0 to 50, inclusive.\n"
   ]
  },
  {
   "cell_type": "code",
   "execution_count": null,
   "id": "875ab1d5",
   "metadata": {},
   "outputs": [],
   "source": [
    "# -------------   WRITE YOUR CODE IN THE SPACE BELOW   ---------- #\n"
   ]
  },
  {
   "cell_type": "markdown",
   "id": "d2696a44",
   "metadata": {},
   "source": [
    "Just like in MATLAB, there are special functions for creating larger arrays as well.\n",
    "\n",
    "We can create an array of zeros of _any number_ of dimensions `(d1, d2, ...)` with the function [`np.zeros(shape=(d1, d2, ...))`](https://numpy.org/doc/stable/reference/generated/numpy.zeros.html) whose first argument `shape` is a single `int` or a **tuple** of `int`s.\n",
    "A tuple is like a list, but _immutable_, and it is specified with parentheses `()` instead of square brackets `[]`.\n",
    "\n",
    "There is an analogous function [`np.ones(shape=(d1, d2, ...))`](https://numpy.org/doc/stable/reference/generated/numpy.ones.html) that creates an array of ones.\n",
    "\n",
    "We can also perform arithmetic on arrays quite easily, for example:"
   ]
  },
  {
   "cell_type": "code",
   "execution_count": null,
   "id": "16b8e93d",
   "metadata": {},
   "outputs": [],
   "source": [
    "nums = [1, 2, 3, 4]\n",
    "arr = np.array(nums)\n",
    "print(arr * 2)\n",
    "print(arr + 1)\n",
    "print(arr ** 3)\n",
    "print(nums * 2)   # ??? "
   ]
  },
  {
   "cell_type": "markdown",
   "id": "fd946d5d",
   "metadata": {},
   "source": [
    "### Exercise: create the following $3 \\times 3$ 2D arrays\n",
    "\n",
    "- A matrix of [zeros](https://numpy.org/doc/stable/reference/generated/numpy.zeros.html).\n",
    "- A matrix of `2`s.\n",
    "- An [identity matrix](https://numpy.org/doc/stable/reference/generated/numpy.identity.html)."
   ]
  },
  {
   "cell_type": "code",
   "execution_count": null,
   "id": "5fc9c31a",
   "metadata": {},
   "outputs": [],
   "source": [
    "# -------------   WRITE YOUR CODE IN THE SPACE BELOW   ---------- #\n"
   ]
  },
  {
   "cell_type": "markdown",
   "id": "0be32b22",
   "metadata": {},
   "source": [
    "### Arithmetic with two NumPy arrays\n",
    "\n",
    "You saw up above that one of the advantages of NumPy arrays over lists is the ability to scale everything by a constant.\n",
    "We can, as you might expect, also add/subtract two arrays as you would vectors and matrices."
   ]
  },
  {
   "cell_type": "code",
   "execution_count": null,
   "id": "8cd38a00",
   "metadata": {},
   "outputs": [],
   "source": [
    "arr1 = np.ones((2, 3))\n",
    "arr2 = 2 * np.ones((2, 3))\n",
    "print(arr1 + arr2)\n",
    "print(arr1 - arr2)"
   ]
  },
  {
   "cell_type": "markdown",
   "id": "012e52b6",
   "metadata": {},
   "source": [
    "Do the arrays have to have the same dimensions?\n",
    "Seems like it..."
   ]
  },
  {
   "cell_type": "code",
   "execution_count": null,
   "id": "bccf4857",
   "metadata": {},
   "outputs": [],
   "source": [
    "arr1 = np.ones((2, 3))       # 2x3 array\n",
    "arr2 = 2 * np.ones((2, 2))   # 2x2 array\n",
    "print(arr1 + arr2)"
   ]
  },
  {
   "cell_type": "markdown",
   "id": "45b537c6",
   "metadata": {},
   "source": [
    "...but maybe not? 🧐"
   ]
  },
  {
   "cell_type": "code",
   "execution_count": null,
   "id": "316ca627",
   "metadata": {},
   "outputs": [],
   "source": [
    "arr1 = np.ones((2, 3))       # 2x3 array\n",
    "arr2 = 2 * np.ones((1, 3))   # 1x3 array\n",
    "print(arr1 + arr2)"
   ]
  },
  {
   "cell_type": "markdown",
   "id": "d41b318b",
   "metadata": {},
   "source": [
    "Whoa!\n",
    "What just occurred is something called [**broadcasting**](https://numpy.org/doc/stable/reference/ufuncs.html#broadcasting), where NumPy will automatically try to adjust arrays so that they match in size.\n",
    "If you look closely at the first error message, it failed because NumPy couldn't broadcast the arrays correctly in the first example.\n",
    "So this is a tip to read the Python error messages: they're actually very helpful! \n",
    "\n",
    "In the second case, NumPy expanded the $\\begin{bmatrix} 2 & 2 & 2 \\end{bmatrix}$ array into a $2 \\times 3$ array (effectively stacked a copy of itself) because the dimensions allowed for it.\n",
    "In the first case, NumPy couldn't expand `2` into `3` a whole number of times.\n",
    "\n",
    "In almost all cases, this is _unintended behavior_ and it is much better for you to guarantee that array operations agree in dimensions with the theory of linear algebra.\n",
    "Nonetheless, we have to be vigilant because array broadcasting is very sneaky and while it worked out here, it sometimes broadcasts along the _wrong_ dimension and our numbers get all jumbled without raising an error.\n",
    "In other words, silent, but deadly!"
   ]
  },
  {
   "cell_type": "markdown",
   "id": "5b082ca0",
   "metadata": {},
   "source": [
    "#### Multiplication \n",
    "\n",
    "Multiplication with NumPy arrays also gets tricky.\n",
    "Given two arrays with the same dimension (let's just say $2 \\times 2$ for simplicity), there are two different operations we could conceivably call \"multiplication.\"\n",
    "1. The standard way from linear algebra is a **matrix-matrix multiplication** (like a dot product; row times column) where the inner dimensions must match.\n",
    "This is accomplished with the `@` operator.\n",
    "1. An **element-wise multiplication** where elements at the same position in two matrices are multiplied together.\n",
    "This is accomplished with the standard multiplication `*` operator.\n",
    "\n",
    "Below we have created the matrices:\n",
    "\n",
    "$$ A = \\begin{bmatrix} 1 & 2 \\\\ 3 & 4 \\end{bmatrix} \\qquad B = \\begin{bmatrix} 1 & 0 \\\\ 1 & 1 \\end{bmatrix} $$\n",
    "\n",
    "\n",
    "### Exercise: complete the two different multiplications, first using pencil-and-paper, then using Python\n",
    "\n",
    "This might seem a little trivial for now, but note that these operators can work with arrays of any (commensurate) size and any (commensurate) dimension."
   ]
  },
  {
   "cell_type": "code",
   "execution_count": null,
   "id": "3a654e70",
   "metadata": {},
   "outputs": [],
   "source": [
    "A = np.array([[1, 2], [3, 4]])\n",
    "B = np.array([[1, 0], [1, 1]])\n",
    "# -------------   WRITE YOUR CODE IN THE SPACE BELOW   ---------- #\n"
   ]
  },
  {
   "cell_type": "markdown",
   "id": "adb0a39e",
   "metadata": {},
   "source": [
    "### Slicing and dicing 🔪\n",
    "\n",
    "Given an array, how do we index into it?\n",
    "The procedure is very similar to what we do with lists, and what you may be used to in MATLAB.\n",
    "The general syntax is:\n",
    "```python\n",
    "arr[ind1, ind2, ...]\n",
    "```\n",
    "where we use **square brackets** and specify as many indices as there are dimensions.\n",
    "If we want to include all the indices along a dimension, we use the **colon** `:`.\n",
    "If we specify fewer indices than the number of dimensions, then we include all indices along those omitted dimensions.\n",
    "\n",
    "In the example below, we use the [`np.reshape(arr, newshape)`](https://numpy.org/doc/stable/reference/generated/numpy.reshape.html) function to quickly create a cube that looks like:\n",
    "![cube](../../assets/fig/week_1/01/cube.png)"
   ]
  },
  {
   "cell_type": "code",
   "execution_count": null,
   "id": "8222688f",
   "metadata": {
    "scrolled": true
   },
   "outputs": [],
   "source": [
    "arr_1d = np.arange(27)                   # linear data\n",
    "arr_2d = np.reshape(arr_1d, (3, 3, 3))   # helpful NumPy function!\n",
    "print(arr_2d)                            # see how output corresponds to above image\n",
    "print()\n",
    "\n",
    "print(arr_2d[0, 0, 0])    # first element\n",
    "print(arr_2d[1, 1, 1])    # central element\n",
    "print()\n",
    "\n",
    "print(arr_2d[0, :, :])    # \"top layer\"\n",
    "print(arr_2d[0])          # also \"top layer\"\n",
    "print()\n",
    "\n",
    "print(arr_2d[-1, :, :])   # bottom layer\n",
    "print()\n",
    "\n",
    "print(arr_2d[:, 1, :])    # \"second\" slice along axis=1\n",
    "print(arr_2d[:, :, 0])    # \"first\" slice along axis=2\n",
    "print()"
   ]
  },
  {
   "cell_type": "markdown",
   "id": "0ac63c3f",
   "metadata": {},
   "source": [
    "### Logical indexing\n",
    "\n",
    "Another huge advantage of NumPy arrays is the ability to use logical indexing to access its values.\n",
    "Whereas with `list`s we can only access elements using the integer index values, with NumPy arrays we can also pass in a **Boolean array of commensurate dimension** to choose whether an element should be included or not.\n",
    "These Boolean arrays are sometimes also called \"masks\" because they determine what elements of the array should be kept and which should be discarded—not unlike the masks used in EUV lithography! 😀\n",
    "For example:"
   ]
  },
  {
   "cell_type": "code",
   "execution_count": null,
   "id": "566a7b8b",
   "metadata": {},
   "outputs": [],
   "source": [
    "# The original NumPy array\n",
    "arr = np.arange(5)\n",
    "print(f'The original array: {arr}')\n",
    "\n",
    "# Using integer indices, like before. We only specify what we need.\n",
    "int_index = arr[[0, 2, 4]]\n",
    "print(f'The result with integer indices: {int_index}')\n",
    "\n",
    "# Using Boolean array. Note that we have to specify all the positions, unlike with integers!\n",
    "bool_index = arr[[True, False, True, False, True]]\n",
    "print(f'The result with logical indices: {bool_index}')\n",
    "\n",
    "# It's typically faster to use a logical expression to determine which values to keep\n",
    "mask = arr % 2 == 0    # lots of operators in use here; take some time with it\n",
    "print(f'The mask is: {mask}')\n",
    "exp_index = arr[mask]\n",
    "print(f'The final result is: {exp_index}')"
   ]
  },
  {
   "cell_type": "markdown",
   "id": "d3b30801",
   "metadata": {},
   "source": [
    "### Exercise: enforcing minimum and maximum values\n",
    "\n",
    "Sometimes in MI, we want to \"truncate\" our data to facilitate the analysis or enforce some constraint (from physics, from the algorithm, etc.).\n",
    "This can be particularly helpful with data visualization to avoid large outliers from distorting the colorbar.\n",
    "To set values based on a Boolean index array, we do something similar to the above:\n",
    "```python\n",
    "arr[some_logical_expr_comparing_arr_values] = new_value_at_those_locations\n",
    "```\n",
    "\n",
    "In this example, take the NumPy array and do the following:\n",
    "- For all elements in `arr` with values greater than `1.0`, set those values to `1.0`.\n",
    "- For all elements in `arr` with values less than `0.0`, set those values to `NaN`. \n",
    "The `NaN` value in NumPy is given by the `np.nan` [constant](https://numpy.org/doc/stable/reference/constants.html#numpy.nan).\n",
    "- Print the array to see your changes."
   ]
  },
  {
   "cell_type": "code",
   "execution_count": null,
   "id": "8760b192",
   "metadata": {},
   "outputs": [],
   "source": [
    "arr = np.arange(-5, 10, 0.5) / 5\n",
    "arr = np.reshape(arr, (5, 6))\n",
    "print(f'Original array:\\n{arr}\\n')\n",
    "# -------------   WRITE YOUR CODE IN THE SPACE BELOW   ---------- #\n"
   ]
  },
  {
   "cell_type": "markdown",
   "id": "8206ac7e",
   "metadata": {},
   "source": [
    "### NumPy submodules and functions\n",
    "\n",
    "We hope that by now, you are beginning to appreciate the power of NumPy arrays.\n",
    "They allow for scientific computations in Python in a manner that is simply inaccessible for standard lists.\n",
    "_Moreover_, when combined with the power of functions that people have incorporated in the NumPy package, that's when this software really shines. ✨\n",
    "\n",
    "\n",
    "### Random numbers\n",
    "\n",
    "In MI applications, there will be many instances where we will want to generate random numbers.\n",
    "This can be for sampling data, randomizing our analysis (to make it more robust), etc.\n",
    "NumPy has many helpful objects and functions for working with random numbers, and we'll spend some time exploring that here.\n",
    "\n",
    "Because dealing with randomness is a such a common and important task, the developers have created a submodule for this, which you can access with the prefix `np.random`.\n",
    "To start with, we will create a [Random Generator object](https://numpy.org/doc/stable/reference/random/generator.html) using the `default_rng()` constructor like so:\n",
    "```python\n",
    "rng = np.random.default_rng()\n",
    "```\n",
    "\n",
    "Now we can call the methods of this object to generate different random numbers that we may need:\n",
    "- `rng.random(size=(d1, d2, ...))`: Generates [an array of random floats](https://numpy.org/doc/stable/reference/random/generated/numpy.random.Generator.random.html) in the half-open interval $[0.0, 1.0)$.\n",
    "Default size is a single random float.\n",
    "- `rng.normal(loc=0.0, scale=1.0, size=None)`: Generates [an array of samples from a normal distribution](https://numpy.org/doc/stable/reference/random/generated/numpy.random.Generator.normal.html) with mean `loc` and standard deviation `scale`. \n",
    "Default distribution is a standard normal distribution.\n",
    "- `rng.integers(low, high=None, size=None)`: Generates [an array of random integers](https://numpy.org/doc/stable/reference/random/generated/numpy.random.Generator.integers.html) from low (inclusive) to high (_exclusive_).\n",
    "Default size is a single random integer.\n",
    "- `rng.choice()`: Generates [a random sample](https://numpy.org/doc/stable/reference/random/generated/numpy.random.Generator.choice.html) from a 1D array.\n",
    "Can be helpful when randomly sampling data.\n",
    "- `rng.shuffle()`: [Modify an array](https://numpy.org/doc/stable/reference/random/generated/numpy.random.Generator.shuffle.html) in-place by shuffling its contents.\n",
    "Helpful for validating calculations.\n",
    "\n",
    "### Exercise: create a Random Generator object and create a random $5 \\times 5$ array of floats in [0, 1)"
   ]
  },
  {
   "cell_type": "code",
   "execution_count": null,
   "id": "4b31edaa",
   "metadata": {},
   "outputs": [],
   "source": [
    "# -------------   WRITE YOUR CODE IN THE SPACE BELOW   ---------- #\n"
   ]
  },
  {
   "cell_type": "markdown",
   "id": "28c07caa",
   "metadata": {},
   "source": [
    "### Finding extrema\n",
    "\n",
    "Often times, you might be interested to know what the largest or smallest values are in a dataset.\n",
    "This information can be obtained with the following."
   ]
  },
  {
   "cell_type": "code",
   "execution_count": null,
   "id": "5b8fbc60",
   "metadata": {},
   "outputs": [],
   "source": [
    "rng = np.random.default_rng(seed=1)    # setting a seed ensures \"reproducible randomness\"\n",
    "arr = np.arange(100)                   # integers 0 to 99\n",
    "rng.shuffle(arr)                       # shuffle the array IN-PLACE\n",
    "print(arr)\n",
    "\n",
    "print(f'The smallest value is {np.min(arr)}.')\n",
    "print(f'The largest value is {np.max(arr)}.')\n",
    "print(f'But we also have: {np.argmin(arr)} and {np.argmax(arr)}.')"
   ]
  },
  {
   "cell_type": "markdown",
   "id": "45857da0",
   "metadata": {},
   "source": [
    "### Exercise: What do the functions in the last line above do? What makes it different from `np.min()` and `np.max()`?\n",
    "\n",
    "**Answer**: \n",
    "Write your answer here by editing the Markdown cell.\n",
    "\n"
   ]
  },
  {
   "cell_type": "markdown",
   "id": "7a3802de",
   "metadata": {},
   "source": [
    "### More functions for data science\n",
    "\n",
    "There are a few more NumPy functions that we want to address, and we will discuss them together in this section because they're structured very similarly.\n",
    "- `np.sum(arr)` [sums the elements](https://numpy.org/doc/stable/reference/generated/numpy.sum.html) in `arr`.\n",
    "- `np.mean(arr)` [averages the elements](https://numpy.org/doc/stable/reference/generated/numpy.mean.html) in `arr`.\n",
    "- `np.std(arr)` [computes the standard deviation](https://numpy.org/doc/stable/reference/generated/numpy.std.html) of the values in `arr`.\n",
    "- `np.linalg.norm(arr)` [calculates the norm](https://numpy.org/doc/stable/reference/generated/numpy.linalg.norm.html) of `arr`.\n",
    "Note that this function is within the `np.linalg` submodule.\n",
    "\n",
    "Already, you can probably think of situations where these functions will come in handy.\n",
    "For example, we often will want to compute a mean and standard deviation of some data points (below is a toy example)."
   ]
  },
  {
   "cell_type": "code",
   "execution_count": null,
   "id": "6c46d51c",
   "metadata": {},
   "outputs": [],
   "source": [
    "arr = rng.normal(size=10000)       # 1000 samples from standard normal distribution\n",
    "print(np.mean(arr), np.std(arr))   # should be close to (0, 1)"
   ]
  },
  {
   "cell_type": "markdown",
   "id": "35e35640",
   "metadata": {},
   "source": [
    "But what makes these functions _even cooler_ is their ability to compute these quantities **along a specified axis of the array** (same goes for the previous `min`/`max`/`argmin`/`argmax` functions).\n",
    "For example, let's say we had a sequence of $(x,y)$ coordinates tracking our position:\n",
    "\n",
    "$$ \\begin{bmatrix} 0 & 0 \\\\ 1 & 0 \\\\ 1 & 1 \\\\ 2 & 1 \\\\ 1 & 1 \\\\ 1 & 2 \\\\ \\vdots & \\vdots \\end{bmatrix} $$\n",
    "\n",
    "If we want to compute our distance to the origin, we need to take a norm, yes, but _we only need to compute the norm for each row_, _not the entire matrix_.\n",
    "To specify the axis that we want to compute the function along, we add in the `axis=i` input parameter to the function call, where `i` is an integer for the axis number.\n",
    "For example:\n",
    "```python\n",
    "np.mean(arr, axis=0)          # computes mean along first dimension (down the columns of a 2D array)\n",
    "np.linalg.norm(arr, axis=1)   # computes norm along second dimension (across the rows of a 2D array)\n",
    "```"
   ]
  },
  {
   "cell_type": "markdown",
   "id": "3d5c30dc",
   "metadata": {},
   "source": [
    "If you have a hard time remembering which axis is which (like Enze), here's the picture from above as a refresher.\n",
    "It might also make more sense now that you've learned a few more things about NumPy arrays.\n",
    "\n",
    "![NumPy arrays](../../assets/fig/week_1/01/numpy_arrays.png)\n",
    "\n",
    "Now we'll do an example with data that is structured like the above 2D example.\n",
    "Note that we're using the [`np.load()`](https://numpy.org/doc/stable/reference/generated/numpy.load.html) function to load in a NumPy array that was generated and saved (elsewhere by Enze) using the [`np.save()`](https://numpy.org/doc/stable/reference/generated/numpy.save.html) function.\n",
    "We will discuss saving/loading data in more depth tomorrow, but this step is analogous to loading data from `.mat` files in MATLAB."
   ]
  },
  {
   "cell_type": "code",
   "execution_count": null,
   "id": "93f47ff1",
   "metadata": {
    "scrolled": true
   },
   "outputs": [],
   "source": [
    "pos = np.load('../../assets/data/week_1/01/2d_walk.npy')\n",
    "print(f'The data have shape {pos.shape}.')   # too many points to calculate by hand!\n",
    "distances = np.linalg.norm(pos, axis=1)      # compute along axis 1 (see middle figure above)\n",
    "print(distances, distances.shape)            # the dimension for axis 1 disappeared!"
   ]
  },
  {
   "cell_type": "markdown",
   "id": "f3ab4624",
   "metadata": {},
   "source": [
    "### Diffusion (Brownian motion)\n",
    "\n",
    "Now let's assume we have some data representing random walk diffusion on a lattice, where our array is structured as follows:\n",
    "\n",
    "![lattice diffusion](../../assets/fig/week_1/01/lattice_diffusion_schematic.png)\n",
    "\n",
    "Briefly, the data are generated using the following algorithm: \n",
    "- We start at the origin and each time step we randomly move forward or backward along one dimension in 3D space (hop to a nearest-neighbor lattice site).\n",
    "- We do this for a total of 100 time steps to get the first 2D array of data (where its shape is $101 \\times 3$).\n",
    "- Then, we repeat the whole procedure 500 times (trials) to get a 3D array of data (where its shape is $500 \\times 101 \\times 3$).\n",
    "\n",
    "While this is a relatively basic algorithm, it's an instructive starting point for diffusion models and, in our case, scientific computing practice. \n",
    "The diffusion model could be for species on the surface of a catalyst, substitutional or interstitial atoms in an alloy, or ions in an electrolyte solution. \n",
    "In particular, it can be shown that the **mean squared displacement** (MSD) of such a particle from its original position $\\vec{x}_0$ is \n",
    "\n",
    "$$ \\text{MSD} \\equiv \\langle (\\vec{x} - \\vec{x}_0)^2 \\rangle = 2nDt $$\n",
    "\n",
    "where $n$ is the dimensionality, $t$ is the time, and $D$ is the diffusion coefficient.\n",
    "Pretty neat!"
   ]
  },
  {
   "cell_type": "markdown",
   "id": "ddea18d4",
   "metadata": {},
   "source": [
    "### Exercise: calculations along an axis\n",
    "\n",
    "Your job will be to calculate the MSD using the diffusion data that we've loaded for you below.\n",
    "The NumPy array is structured exactly as shown above (we can print `data.shape` to confirm this).\n",
    "Your final answer should be a single array of length 101 with values that are _approximately_ equal to:\n",
    "```\n",
    "[ 0.   1.   2.   ...   99.   100.]\n",
    "```\n",
    "\n",
    "_Hint_: You might find the [`np.linalg.norm()`](https://numpy.org/doc/stable/reference/generated/numpy.linalg.norm.html) and [`np.mean()`](https://numpy.org/doc/stable/reference/generated/numpy.mean.html) functions helpful.\n",
    "You will want to specify a specific `axis` parameter in each function.\n",
    "Also, which function should you compute first?"
   ]
  },
  {
   "cell_type": "code",
   "execution_count": null,
   "id": "6a5e121b",
   "metadata": {},
   "outputs": [],
   "source": [
    "data = np.load('../../assets/data/week_1/01/lattice_diffusion.npy')\n",
    "print(f'The data has dimensions {data.shape}.')\n",
    "# -------------   WRITE YOUR CODE IN THE SPACE BELOW   ---------- #\n"
   ]
  },
  {
   "cell_type": "markdown",
   "id": "107add72",
   "metadata": {},
   "source": [
    "### CHALLENGE 🚨: More NumPy and linear algebra fun (aka machine learning??)\n",
    "\n",
    "In the final set of problems, we'll practice some more NumPy array operations in the context of a linear regression problem.\n",
    "Specifically, we will construct a linear model to predict the atomic weight of an element using its atomic number.\n",
    "You know from your previous studies that the two properties are related: \n",
    "\n",
    "$$ \\text{atomic weight = atomic number + weighted average number of neutrons} $$\n",
    "\n",
    "but not perfectly linear, which makes this a good problem for demonstrating the method of **least squares**.\n",
    "If you need a reminder of the matrix-vector formulation of the least squares regression problem, see [this handout](https://github.com/enze-chen/stanford_ta/blob/master/cme104/pseudoinverse.pdf) or similar ones on Google."
   ]
  },
  {
   "cell_type": "markdown",
   "id": "992a24dc",
   "metadata": {},
   "source": [
    "### Exercise: solve an ordinary least squares problem using the normal equation\n",
    "\n",
    "We have provided some data for you in `number_weight.npy` (loaded below) with 50 rows and 2 columns.\n",
    "The first column is the atomic number and the second column is the atomic weight for the corresponding element.\n",
    "\n",
    "Your job is to create a **design matrix** $X$ that consists of the following columns:\n",
    "- A column of ones.\n",
    "- A column of atomic numbers.\n",
    "- A column of atomic numbers squared (this is an example of adding polynomial features, which we'll discuss on Thursday).\n",
    "\n",
    "You should also create a **target vector** $\\vec{y}$ that is the column of atomic weights.\n",
    "To be even more explicit, your code should do the following:\n",
    "\n",
    "$$ \\text{data}\\ = \\begin{bmatrix} 1 & 1.008 \\\\ 2 & 4.003 \\\\ \\vdots & \\vdots \\\\ 49 & 114.818 \\\\ 50 & 118.71 \\end{bmatrix} \n",
    "\\quad \\stackrel{\\text{\\{your code\\}}}{\\implies} \\quad \n",
    "X \\equiv \\begin{bmatrix} \\vec{1} & \\vec{Z} & \\vec{Z^2} \\end{bmatrix} = \\begin{bmatrix} 1 & 1 & 1 \\\\ 1 & 2 & 4 \\\\ \\vdots & \\vdots & \\vdots \\\\ 1 & 49 & 2401 \\\\ 1 & 50 & 2500 \\end{bmatrix}, \\quad\n",
    "\\vec{y} = \\begin{bmatrix} 1.008 \\\\ 4.003 \\\\ \\vdots \\\\ 114.818 \\\\ 118.71 \\end{bmatrix} $$\n",
    "\n",
    "After this is done, you should compute the regression **coefficients (weights)** $\\vec{\\theta}$ using the **normal equation**:\n",
    "\n",
    "$$ \\vec{\\theta} = (X^T X)^{-1} X^T \\vec{y} $$\n",
    "\n",
    "where $\\vec{\\theta}$ is such that for the $i$th element (i.e., $i$th row of $X$),\n",
    "\n",
    "$$ \\theta_0 x_0^{(i)} + \\theta_1 x_1^{(i)} + \\theta_2 x_2^{(i)} = y^{(i)} $$\n",
    "\n",
    "Finally, compute the **root-mean-square error** (RMSE), which is given by \n",
    "\n",
    "$$ \\text{RMSE}\\ = \\left( \\frac{1}{m} || X \\vec{\\theta} - \\vec{y} ||_2^2 \\right)^{1/2} $$\n",
    "\n",
    "If you print out your $\\vec{\\theta}$ values and RMSE, you should get approximately\n",
    "\n",
    "$$ \\vec{\\theta} \\approx \\begin{bmatrix} -0.342 & 2.021 & 0.007 \\end{bmatrix} \\qquad \\text{RMSE}\\ \\approx 1.174 $$\n",
    "\n",
    "_Hint_: You may want to use \n",
    "- [`np.column_stack()`](https://numpy.org/doc/stable/reference/generated/numpy.column_stack.html) to join vectors together for $X$ (or see [`np.concatenate()`](https://numpy.org/doc/stable/reference/generated/numpy.concatenate.html) for more options). \n",
    "- [`np.linalg.inv()`](https://numpy.org/doc/stable/reference/generated/numpy.linalg.inv.html) to compute the matrix inverse.\n",
    "- [`ndarray.T`](https://numpy.org/doc/stable/reference/generated/numpy.ndarray.T.html) to compute the matrix transpose. \n",
    "- the `@` operator for matrix-matrix multiplication.\n",
    "- the [`np.sqrt()`](https://numpy.org/doc/stable/reference/generated/numpy.sqrt.html) and [`np.linalg.norm()`](https://numpy.org/doc/stable/reference/generated/numpy.linalg.norm.html) functions to help compute the RMSE."
   ]
  },
  {
   "cell_type": "code",
   "execution_count": null,
   "id": "c450e9b6",
   "metadata": {
    "scrolled": true
   },
   "outputs": [],
   "source": [
    "data = np.load('../../assets/data/week_1/01/number_weight.npy')\n",
    "# -------------   WRITE YOUR CODE IN THE SPACE BELOW   ---------- #\n"
   ]
  },
  {
   "cell_type": "markdown",
   "id": "f8dddb63",
   "metadata": {},
   "source": [
    "We know at this point you might be thinking, \"This was nice, but it'd also be great if we could _visualize_ how well our model was doing, or _visualize_ our diffusion data.\"\n",
    "That's definitely the right train of thought.\n",
    "And we'll get there, promise. \n",
    "More about this on Wednesday! 🙂"
   ]
  },
  {
   "cell_type": "markdown",
   "id": "dac45b23",
   "metadata": {},
   "source": [
    "## A word on style\n",
    "\n",
    "[Back to top](#Contents)\n",
    "\n",
    "We know what you're thinking, _ugh, style, not this again_... 🙄\n",
    "And it's true, coding style can be pretty boring or maybe even contentious to discuss because a lot of it is personal preference.\n",
    "We just want to quickly say that while we're not enforcing or grading anything, there are a few style tips that will **make your code cleaner and your lives easier**, even if it's only by a teeny bit.\n",
    "Plus, if you're ever asked to write code in the future on a large team, you can impress them with your beautiful work. ✨\n",
    "\n",
    "So, the tips:\n",
    "- **Whitespace is your friend**. \n",
    "Not just for indented code blocks, but everywhere. \n",
    "This will come in handy when you're debugging!\n",
    "    - It is best practice to add spaces _before **and** after_ all operators, and _after_ all commas in a list.\n",
    "    ```python\n",
    "    a = [(2 + 3) ** 4, arr1 + arr2, arr3 ** 2]   # this\n",
    "    b=[(2+3)**4,arr1+arr2,arr3**2]               # NOT this\n",
    "    ```\n",
    "    - We also suggest adding blank lines in between sections of code that are doing different things, even within the same function body.\n",
    "- **Use descriptive names**. \n",
    "This is really key for you to understand what your variables and functions are doing, especially when you come back to the code the next day... or the next week... or the next year. 😁\n",
    "- **Practice decomposition**.\n",
    "By this we mean split your code into logical chunks, which may or may not go into helper functions, to help you organize your work.\n",
    "It's very easy with a language like Python to write _one giant script_ of hundreds of lines of code, which makes it very painful to read and debug (we've all been there).\n",
    "Decomposing your code makes it easier to test as you go and ensure sound logic.\n",
    "    - One benefit of Jupyter is that you can just split your code into separate cells.\n",
    "    This is totally fine.\n",
    "\n",
    "That's all from us! \n",
    "If you want to read more on this topic, please see the [PEP 8 Style Guide](https://pep8.org/)."
   ]
  },
  {
   "cell_type": "markdown",
   "id": "12bd9ce8",
   "metadata": {},
   "source": [
    "## Conclusion\n",
    "\n",
    "Congratulations on making it to the end! 🎉👏\n",
    "\n",
    "There is **_a lot_** of information that we covered in this notebook, so it's totally reasonable if not everything clicked right away and you find yourself needing to revist these concepts.\n",
    "\n",
    "Please don't hesitate to reach out on Slack if you have questions or concerns."
   ]
  }
 ],
 "metadata": {
  "celltoolbar": "Tags",
  "kernelspec": {
   "display_name": "Python 3",
   "language": "python",
   "name": "python3"
  },
  "language_info": {
   "codemirror_mode": {
    "name": "ipython",
    "version": 3
   },
   "file_extension": ".py",
   "mimetype": "text/x-python",
   "name": "python",
   "nbconvert_exporter": "python",
   "pygments_lexer": "ipython3",
   "version": "3.7.10"
  },
  "toc": {
   "base_numbering": 1,
   "nav_menu": {},
   "number_sections": false,
   "sideBar": true,
   "skip_h1_title": true,
   "title_cell": "Table of Contents",
   "title_sidebar": "Contents",
   "toc_cell": false,
   "toc_position": {},
   "toc_section_display": true,
   "toc_window_display": false
  }
 },
 "nbformat": 4,
 "nbformat_minor": 5
}
