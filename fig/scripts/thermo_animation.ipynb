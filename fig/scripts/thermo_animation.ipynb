{
 "cells": [
  {
   "cell_type": "markdown",
   "metadata": {},
   "source": [
    "# The thermodynamics of ideal solutions\n",
    "\n",
    "*Authors: Enze Chen (University of California, Berkeley)*\n",
    "\n",
    "This animation will show how the Gibbs free energy curves correspond to a lens phase diagram.\n",
    "\n",
    "## Python imports"
   ]
  },
  {
   "cell_type": "code",
   "execution_count": 1,
   "metadata": {
    "code_folding": []
   },
   "outputs": [],
   "source": [
    "# General libraries\n",
    "import io\n",
    "import os\n",
    "\n",
    "# Scientific computing libraries\n",
    "import numpy as np\n",
    "from scipy.misc import derivative\n",
    "import matplotlib\n",
    "import matplotlib.pyplot as plt\n",
    "%matplotlib inline\n",
    "import matplotlib.animation as animation\n",
    "from PIL import Image\n",
    "import cv2\n",
    "from moviepy.editor import *"
   ]
  },
  {
   "cell_type": "markdown",
   "metadata": {},
   "source": [
    "### Helper functions"
   ]
  },
  {
   "cell_type": "code",
   "execution_count": 2,
   "metadata": {
    "code_folding": [
     0
    ]
   },
   "outputs": [],
   "source": [
    "# analytical function for the solid free energy curve\n",
    "def curve_s(x, T, beta=0):\n",
    "    \"\"\"This function plots the Gibbs free energy curve for the solid solution.\n",
    "    \n",
    "    Args:\n",
    "        x (numpy.ndarray): An array of atomic fractions of B.\n",
    "        T (float): The temperature in Kelvin.\n",
    "        beta (float): The interaction parameter in J/mol.\n",
    "        \n",
    "    Returns:\n",
    "        G_s (numpy.ndarray): An array of Gibbs free energy values in kJ/mol.    \n",
    "    \"\"\"\n",
    "    S_mix = -8.314 * (np.multiply(x, np.log(x)) + np.multiply(1 - x, np.log(1 - x)))\n",
    "    H_mix = beta * np.multiply(x, 1 - x)\n",
    "    G_s = -T * S_mix + H_mix\n",
    "    return G_s / 1000\n",
    "\n",
    "# analytical function for the liquid free energy curve\n",
    "def curve_l(x, T, beta=0):\n",
    "    \"\"\"This function plots the Gibbs free energy curve for the liquid solution.\n",
    "    \n",
    "    Args:\n",
    "        x (numpy.ndarray): An array of atomic fractions of B.\n",
    "        T (float): The temperature in Kelvin.\n",
    "        beta (float): The interaction parameter in J/mol.\n",
    "        \n",
    "    Returns:\n",
    "        G_l (numpy.ndarray): An array of Gibbs free energy values in kJ/mol.    \n",
    "    \"\"\"\n",
    "    S_A, S_B = (52.7, 59.9)\n",
    "    T_A, T_B = (1890 + 273, 1205 + 273)\n",
    "    G_A = S_A * (T_A - T)\n",
    "    G_B = S_B * (T_B - T)\n",
    "    S_mix = -8.314 * (np.multiply(x, np.log(x)) + np.multiply(1 - x, np.log(1 - x)))\n",
    "    H_mix = beta * np.multiply(x, 1 - x)\n",
    "    G_l = x * G_B + (1 - x) * G_A - T * S_mix + H_mix\n",
    "    return G_l / 1000"
   ]
  },
  {
   "cell_type": "code",
   "execution_count": 3,
   "metadata": {
    "code_folding": [
     1
    ]
   },
   "outputs": [],
   "source": [
    "# find the common tangent using intersections and line search\n",
    "def common_tangent(x, y1, y2, T, beta=0):\n",
    "    \"\"\"This function calculates the common tangent of two convex curves.\n",
    "    \n",
    "    Args:\n",
    "        x (numpy.ndarray): An array of atomic fractions of B.\n",
    "        y1 (numpy.ndarray): y values for curve 1.\n",
    "        y2 (numpy.ndarray): y values for curve 2.\n",
    "        T (float): The temperature in Kelvin.\n",
    "        beta (float): The interaction parameter for the solid solution.\n",
    "        \n",
    "    Returns:\n",
    "        line (numpy.ndarray): y values for the common tangent.\n",
    "        idmin (int): Index of the x-coordinate of the first tangent point.\n",
    "        idmax (int): Index of the x-coordinate of the second tangent point.\n",
    "    \"\"\"\n",
    "    # Compute a derivative\n",
    "    dx = 1e-3\n",
    "    dy1 = derivative(func=curve_s, x0=x, dx=dx, args=(T, beta,))\n",
    "\n",
    "    # Make an initial guess at the minimum of curve 1\n",
    "    n = len(x)\n",
    "    idmin, idmax = (0, n)\n",
    "    idx = np.argmin(y1)\n",
    "    yp = y1[idx]\n",
    "    xp = x[idx]\n",
    "    dyp = dy1[idx]\n",
    "\n",
    "    # Construct the tangent line and count intersections with curve 2\n",
    "    line = dyp * x + yp - dyp * xp\n",
    "    diff = np.diff(np.sign(y2 - line))\n",
    "    nnz = np.count_nonzero(diff)\n",
    "\n",
    "    # They're the same curve. Used for finding miscibility gap.\n",
    "    # I'm assuming that the curve is symmetric\n",
    "    if np.linalg.norm(y1 - y2) < 1e-4:\n",
    "        idmin = np.argmin(y1[:int(n/2)])\n",
    "        idmax = np.argmin(y1[int(n/2):]) + int(n/2)\n",
    "\n",
    "    # If the tangent line intersects curve 2, shift tangent point to the left\n",
    "    elif nnz >= 1:\n",
    "        while nnz >= 1:\n",
    "            idx -= 1\n",
    "            # try-except to avoid an out-of-bounds error \n",
    "            try:\n",
    "                yp = y1[idx]\n",
    "                xp = x[idx]\n",
    "                dyp = dy1[idx]\n",
    "                line = dyp * x + yp - dyp * xp\n",
    "                diff = np.diff(np.sign(y2 - line))\n",
    "                nnz = np.count_nonzero(diff)\n",
    "            except:\n",
    "                break\n",
    "            if diff.any():\n",
    "                # Assign left and right indices of the tangent points\n",
    "                # Here we do it each time because once we miss, we can't go back\n",
    "                idmax = np.nonzero(diff)[0][0]\n",
    "        idmin = idx\n",
    "\n",
    "    # If the tangent line misses curve 2, shift tangent point to the right\n",
    "    elif nnz < 1:\n",
    "        while nnz < 1:\n",
    "            idx += 1\n",
    "            # try-except to avoid an out-of-bounds error \n",
    "            try:\n",
    "                yp = y1[idx]\n",
    "                xp = x[idx]\n",
    "                dyp = dy1[idx]\n",
    "                line = dyp * x + yp - dyp * xp\n",
    "                diff = np.diff(np.sign(y2 - line))\n",
    "                nnz = np.count_nonzero(diff)\n",
    "            except:\n",
    "                break\n",
    "        # Assign left and right indices of the tangent points\n",
    "        idmin = idx\n",
    "        idmax = np.nonzero(diff)[0][0]\n",
    "    \n",
    "    # Return a tuple\n",
    "    return (line, idmin, idmax)"
   ]
  },
  {
   "cell_type": "code",
   "execution_count": 4,
   "metadata": {
    "code_folding": [
     1
    ]
   },
   "outputs": [],
   "source": [
    "# plot the Gibbs free energy curves\n",
    "def plot_Gx(T=1800, beta_s=0, beta_l=0):\n",
    "    \"\"\"This function is called by the widget to perform the plotting based on inputs.\n",
    "    \n",
    "    Args:\n",
    "        T (float): The temperature in Kelvin.\n",
    "        beta_s (float): The interaction parameter for solids in J/mol.\n",
    "        beta_l (float): The interaction parameter for liquids in J/mol.\n",
    "        \n",
    "    Returns:\n",
    "        None, but a pyplot is displayed.\n",
    "    \"\"\"\n",
    "    # For the given temperature, calculate the curves and common tangent\n",
    "    n = int(1e4)\n",
    "    xmin, xmax = (0.001, 0.999)\n",
    "    x = np.linspace(xmin, xmax, n)\n",
    "    y_s = curve_s(x, T, beta_s)\n",
    "    y_l = curve_l(x, T, beta_l)\n",
    "    line, idmin, idmax = common_tangent(x, y_s, y_l, T, beta_s)\n",
    "\n",
    "    # Mostly plot settings for visual appeal\n",
    "    plt.rcParams.update({'figure.figsize':(8,6), 'font.size':20, \\\n",
    "                         'lines.linewidth':4, 'axes.linewidth':2})\n",
    "    fig, ax = plt.subplots()\n",
    "    ymin, ymax = (-39, 19)\n",
    "    ax.plot(x, y_s, c='C0', label='solid')\n",
    "    ax.plot(x, y_l, c='C1', label='liquid')\n",
    "    if abs(idmin) < n and abs(idmax) < n:\n",
    "        ax.plot(x[idmin:idmax], line[idmin:idmax], c='k', lw=5, ls='-.')\n",
    "        ax.vlines(x=[x[idmin], x[idmax]], ymin=ymin, \\\n",
    "                  ymax=[line[idmin], line[idmax]], linestyles='dotted', linewidth=3)\n",
    "    ax.tick_params(top=True, right=True, direction='in', length=10, width=2)\n",
    "    ax.set_xlim(0, 1)\n",
    "    ax.set_ylim(ymin, ymax)\n",
    "    ax.set_xlabel(r'$x_{B}$')\n",
    "    ax.set_ylabel(r'$\\Delta G$ (kJ/mol)')\n",
    "    ax.set_title('Gibbs free energy at T = {} K'.format(T), fontsize=18)\n",
    "    plt.legend()\n",
    "    plt.show()"
   ]
  },
  {
   "cell_type": "markdown",
   "metadata": {},
   "source": [
    "## Animations using `FuncAnimation`\n",
    "\n",
    "Finally!! VLC/Windows has buggy glitches, but the embedded HTML version looks fine.\n",
    "Also, **extremely high quality and low memory footprint**!! 🎉"
   ]
  },
  {
   "cell_type": "code",
   "execution_count": 5,
   "metadata": {
    "code_folding": []
   },
   "outputs": [
    {
     "name": "stdout",
     "output_type": "stream",
     "text": [
      "1300\n",
      "1400\n",
      "1500\n",
      "1600\n",
      "1700\n",
      "1800\n",
      "1900\n",
      "2000\n",
      "2100\n",
      "2200\n",
      "2300\n"
     ]
    },
    {
     "data": {
      "image/png": "[encoded data removed]",
      "text/plain": [
       "<Figure size 504x684 with 2 Axes>"
      ]
     },
     "metadata": {
      "needs_background": "light"
     },
     "output_type": "display_data"
    }
   ],
   "source": [
    "# Initialize quantities\n",
    "n = int(1e4)\n",
    "xmin, xmax = (0.001, 0.999)\n",
    "x = np.linspace(xmin, xmax, n)\n",
    "liquidus = []\n",
    "solidus = []\n",
    "Ts = np.arange(1300, 2301, 5)\n",
    "\n",
    "# Plot settings\n",
    "plt.rcParams.update({'figure.figsize':(7,9.5), 'font.size':16})\n",
    "fig, ax = plt.subplots(nrows=2, ncols=1, sharex=True)\n",
    "\n",
    "# Initialize plot settings\n",
    "ymin, ymax = -39, 19\n",
    "ax[0].set_xlim(0, 1)\n",
    "ax[0].set_ylim(ymin, ymax)\n",
    "ax[0].set_ylabel(r'$\\Delta G$ (kJ/mol)', fontsize=22)\n",
    "ax[0].set_title('Binary ideal solution\\nFree energy vs. composition', fontsize=20)\n",
    "ax[0].tick_params(axis='both', labelsize=20)\n",
    "\n",
    "Tmin, Tmax = 1100, 2500\n",
    "ax[1].set_xlabel(r'$x_{B}$', fontsize=22)\n",
    "ax[1].set_ylabel(r'$T$ (K)', fontsize=22)\n",
    "ax[1].set_ylim(Tmin, Tmax)\n",
    "ax[1].set_title('Phase diagram', fontsize=20)\n",
    "ax[1].tick_params(axis='both', labelsize=20)\n",
    "\n",
    "# Initialize the lines\n",
    "l1, = ax[0].plot([], [], c='C1', label='liquid')\n",
    "l2, = ax[0].plot([], [], c='C0', label='solid')\n",
    "l3, = ax[1].plot([], [], c='C1', label='liquidus')\n",
    "l4, = ax[1].plot([], [], c='C0', label='solidus')\n",
    "l5, = ax[1].plot([], [], c='gray', ls='dashed', lw=4, alpha=0.5, zorder=-5)\n",
    "v3, = ax[0].plot([], [], c='k', ls='-.')\n",
    "v1 = ax[0].vlines(x=[0], ymin=[0], ymax=[0], linestyles='dotted', linewidth=4, color='k')\n",
    "v2 = ax[1].vlines(x=[0], ymin=[0], ymax=[0], linestyles='dotted', linewidth=4, color='k')\n",
    "ax[0].legend(loc='upper right')\n",
    "ax[1].legend(loc='upper right')\n",
    "plt.tight_layout()\n",
    "\n",
    "# This is needed to avoid an extra loop\n",
    "def init():\n",
    "    l1.set_data([], [])\n",
    "    return l1,\n",
    "\n",
    "# This does the enumeration\n",
    "def animate(i):\n",
    "    global ymin, ymax, Tmax, liquidus, solidus, x, n, Ts, v1, v2\n",
    "    T = Ts[i]\n",
    "    if T % 100 == 0:\n",
    "        print(T)\n",
    "    y_s = curve_s(x, T)\n",
    "    y_l = curve_l(x, T)\n",
    "    line, idmin, idmax = common_tangent(x, y_s, y_l, T)   # compute common tangent\n",
    "    if idmin == 0 or idmin == n-1 or idmax == 0 or idmax == n-1:\n",
    "        liquidus.append(None)\n",
    "        solidus.append(None)\n",
    "    else:\n",
    "        liquidus.append(x[idmax])\n",
    "        solidus.append(x[idmin])\n",
    "\n",
    "    # set the data to be updated each iteration\n",
    "    l1.set_data(x, y_l)\n",
    "    l2.set_data(x, y_s)\n",
    "    l3.set_data(liquidus, Ts[:np.where(Ts==T)[0][0]+1])\n",
    "    l4.set_data(solidus, Ts[:np.where(Ts==T)[0][0]+1])\n",
    "    l5.set_data([0, 1], [T, T])\n",
    "    ax[0].annotate(text=f'$T={T}$ K', xy=(0.70, -33), fontsize=20, \n",
    "                   bbox=dict(fc='1.0', boxstyle='round'))\n",
    "    \n",
    "    # handle the tangent points\n",
    "    if T == 2170:\n",
    "        v1.remove()\n",
    "        v2.remove()\n",
    "    if abs(idmin) < n and abs(idmax) < n and idmax != 0:\n",
    "        v1.remove()\n",
    "        v2.remove()\n",
    "        v3.set_data(x[idmin:idmax], line[idmin:idmax])\n",
    "        v1 = ax[0].vlines(x=[x[idmin], x[idmax]], ymin=ymin, \\\n",
    "                  ymax=[line[idmin], line[idmax]], linestyles='dotted', linewidth=4, colors=['C0', 'C1'])\n",
    "        v2 = ax[1].vlines(x=[x[idmin], x[idmax]], ymin=T, ymax=Tmax, linestyles='dotted', linewidth=4, colors=['C0', 'C1'])\n",
    "        \n",
    "    # return the artists that get updated (for blitting)\n",
    "    return l1, l2, l3, l4, l5, v3, v2, v1\n",
    "\n",
    "# Create animation object\n",
    "anim = animation.FuncAnimation(fig, animate, init_func=init,\n",
    "                               frames=len(Ts), interval=1000, blit=True, repeat=False)\n",
    "\n",
    "# Save animation as MP4 (preferred)\n",
    "# anim.save('C:/Users/Enze/Desktop/test_funcanim.mp4', fps=9, dpi=300, writer='ffmpeg')\n",
    "# Save animation as GIF (file size MUCH larger!)\n",
    "# anim.save('C:/Users/Enze/Desktop/test_funcanim.gif', fps=9, dpi=300, writer='pillow')   \n",
    "\n",
    "plt.show()"
   ]
  },
  {
   "cell_type": "markdown",
   "metadata": {
    "heading_collapsed": true
   },
   "source": [
    "## Other (sub-par) methods that I've tried..."
   ]
  },
  {
   "cell_type": "code",
   "execution_count": null,
   "metadata": {
    "code_folding": [
     0
    ],
    "hidden": true,
    "scrolled": false
   },
   "outputs": [],
   "source": [
    "# Accumulate images in a list for post-processing\n",
    "n = int(1e4)\n",
    "xmin, xmax = (0.001, 0.999)\n",
    "x = np.linspace(xmin, xmax, n)\n",
    "liquidus = []\n",
    "solidus = []\n",
    "Ts = np.arange(1300, 1450, 10)\n",
    "\n",
    "plt.rcParams.update({'figure.figsize':(7,9)})\n",
    "fig, ax = plt.subplots(nrows=2, ncols=1, sharex=True)\n",
    "fig.tight_layout()\n",
    "ymin, ymax = -39, 19\n",
    "ax[0].set_xlim(0, 1)\n",
    "ax[0].set_ylim(ymin, ymax)\n",
    "ax[0].set_ylabel(r'$\\Delta G$ (kJ/mol)')\n",
    "\n",
    "Tmin, Tmax = 1100, 2500\n",
    "ax[1].set_xlabel(r'$x_{B}$')\n",
    "ax[1].set_ylabel(r'$T$ (K)')\n",
    "ax[1].set_ylim(Tmin, Tmax)\n",
    "images = []\n",
    "\n",
    "for i,T in enumerate(Ts):\n",
    "    if T % 100 == 0:\n",
    "        print(T)\n",
    "    y_s = curve_s(x, T)\n",
    "    y_l = curve_l(x, T)\n",
    "    line, idmin, idmax = common_tangent(x, y_s, y_l, T)\n",
    "    if idmin == 0 or idmin == n-1 or idmax == 0 or idmax == n-1:\n",
    "        liquidus.append(None)\n",
    "        solidus.append(None)\n",
    "    else:\n",
    "        liquidus.append(x[idmax])\n",
    "        solidus.append(x[idmin])\n",
    "\n",
    "    ax[0].plot(x, y_s, c='C0', label='solid')\n",
    "    ax[0].plot(x, y_l, c='C1', label='liquid')\n",
    "    if abs(idmin) < n and abs(idmax) < n and idmax != 0:\n",
    "        ax[0].plot(x[idmin:idmax], line[idmin:idmax], c='k', ls='-.')\n",
    "        v1 = ax[0].vlines(x=[x[idmin], x[idmax]], ymin=ymin, \\\n",
    "                  ymax=[line[idmin], line[idmax]], linestyles='dotted', linewidth=4, color='k')\n",
    "        v2 = ax[1].vlines(x=[x[idmin], x[idmax]], ymin=T, ymax=Tmax, linestyles='dotted', linewidth=4, color='k')\n",
    "    ax[0].legend(loc='upper right')\n",
    "\n",
    "    ax[1].plot(liquidus, Ts[:i+1], c='C1', label='liquidus')\n",
    "    ax[1].plot(solidus, Ts[:i+1], c='C0', label='solidus')\n",
    "    ax[1].plot([0, 1], [T, T], c='gray', ls='dashed', lw=4, alpha=0.5, zorder=-5)\n",
    "    ax[1].annotate(text=f'$T={T}$ K', xy=(0.7, 2320), fontsize=24, \n",
    "                   bbox=dict(fc='1.0', boxstyle='round'))\n",
    "    \n",
    "#     fig.savefig(f'C:/Users/Enze/Desktop/plots/fig_{T:4d}')\n",
    "    \n",
    "    # Convert to PIL image for GIF\n",
    "    buf = io.BytesIO()\n",
    "    fig.savefig(buf)\n",
    "    buf.seek(0)\n",
    "    images.append(Image.open(buf))\n",
    "\n",
    "    while len(ax[0].lines) > 0:\n",
    "        ax[0].lines.remove(ax[0].lines[0])\n",
    "    while len(ax[1].lines) > 0:\n",
    "        ax[1].lines.remove(ax[1].lines[0])\n",
    "    if abs(idmin) < n and abs(idmax) < n and idmax != 0:\n",
    "        v1.remove()\n",
    "        v2.remove()\n",
    "\n",
    "# Make a GIF by converting from PIL Image\n",
    "make_gif = True\n",
    "if make_gif:   # Quality is pretty good!!\n",
    "    images[0].save('C:/Users/Enze/Desktop/test_PIL3.gif', save_all=True, append_images=images[1:], optimize=False, duration=200, loop=0)\n",
    "    print('Finished making GIF')"
   ]
  },
  {
   "cell_type": "markdown",
   "metadata": {
    "heading_collapsed": true,
    "hidden": true
   },
   "source": [
    "### Convert PIL images to mp4 using [OpenCV](https://docs.opencv.org/master/d6/d00/tutorial_py_root.html)\n",
    "\n",
    "OK, this works! \n",
    "Quality could be improved... this is where FuncAnimation native support would probably be better."
   ]
  },
  {
   "cell_type": "code",
   "execution_count": 26,
   "metadata": {
    "code_folding": [],
    "hidden": true
   },
   "outputs": [],
   "source": [
    "# This movie is very large in size!!\n",
    "opencv_images = [cv2.cvtColor(np.array(i), cv2.COLOR_RGB2BGR) for i in images]\n",
    "height, width, channels = opencv_images[0].shape\n",
    "fourcc = cv2.VideoWriter_fourcc(*'MP4V')   # can also be 'MJPG' or 'MP4V'\n",
    "video = cv2.VideoWriter(filename='C:/Users/Enze/Desktop/test_opencv.mp4', \n",
    "                        fourcc=fourcc, fps=6, frameSize=(width, height))\n",
    "for i in opencv_images:\n",
    "    video.write(i)\n",
    "cv2.destroyAllWindows()\n",
    "video.release()"
   ]
  },
  {
   "cell_type": "markdown",
   "metadata": {
    "heading_collapsed": true,
    "hidden": true
   },
   "source": [
    "### Convert figure files using [`moviepy`](https://moviepy.readthedocs.io/en/latest/index.html)\n",
    "\n",
    "Quality seems a little worse than OpenCV. \n",
    "Also takes a longggg time lol, but the file size is very small!"
   ]
  },
  {
   "cell_type": "code",
   "execution_count": null,
   "metadata": {
    "hidden": true
   },
   "outputs": [],
   "source": [
    "datadir = 'C:/Users/Enze/Desktop/plots/'\n",
    "clips = [ImageClip(os.path.join(datadir, m)).set_duration(0.2) for m in os.listdir(datadir)]\n",
    "concat = concatenate_videoclips(clips, method='compose')\n",
    "concat.write_videofile('C:/Users/Enze/Desktop/test_moviepy.mp4', fps=10)"
   ]
  }
 ],
 "metadata": {
  "kernelspec": {
   "display_name": "Python 3",
   "language": "python",
   "name": "python3"
  },
  "language_info": {
   "codemirror_mode": {
    "name": "ipython",
    "version": 3
   },
   "file_extension": ".py",
   "mimetype": "text/x-python",
   "name": "python",
   "nbconvert_exporter": "python",
   "pygments_lexer": "ipython3",
   "version": "3.7.10"
  },
  "toc": {
   "base_numbering": 1,
   "nav_menu": {},
   "number_sections": false,
   "sideBar": true,
   "skip_h1_title": true,
   "title_cell": "Table of Contents",
   "title_sidebar": "Contents",
   "toc_cell": false,
   "toc_position": {},
   "toc_section_display": true,
   "toc_window_display": false
  }
 },
 "nbformat": 4,
 "nbformat_minor": 4
}
